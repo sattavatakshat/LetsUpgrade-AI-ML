{
 "cells": [
  {
   "cell_type": "markdown",
   "metadata": {},
   "source": [
    "# Q.1"
   ]
  },
  {
   "cell_type": "code",
   "execution_count": 20,
   "metadata": {},
   "outputs": [
    {
     "name": "stdout",
     "output_type": "stream",
     "text": [
      "3\n",
      "5\n",
      "7\n",
      "9\n",
      "11\n",
      "13\n",
      "15\n",
      "17\n",
      "19\n",
      "21\n",
      "23\n",
      "25\n",
      "27\n",
      "29\n",
      "31\n",
      "33\n",
      "35\n",
      "37\n",
      "39\n",
      "41\n"
     ]
    }
   ],
   "source": [
    "count=0\n",
    "for i in range(1,100):\n",
    "    for j in range(1,i):\n",
    "        if i%j==0 and i%2==0:\n",
    "            pass\n",
    "            break\n",
    "        else:\n",
    "            print(i)\n",
    "            count+=1\n",
    "            break\n",
    "    if count >19:\n",
    "        break\n",
    "        \n",
    "        "
   ]
  },
  {
   "cell_type": "markdown",
   "metadata": {},
   "source": [
    "# Q.2"
   ]
  },
  {
   "cell_type": "code",
   "execution_count": 7,
   "metadata": {},
   "outputs": [
    {
     "name": "stdout",
     "output_type": "stream",
     "text": [
      "  hello  \n",
      "  HELLO  \n",
      "Hello\n",
      "Hello  \n",
      "  Hello\n",
      "  HELLO  \n",
      "  Hello  \n",
      "  hello  \n",
      "['Hello']\n",
      "  Hlllo  \n",
      "4\n",
      "False\n",
      "  hELLO  \n",
      "False\n",
      "True\n"
     ]
    }
   ],
   "source": [
    "a=\"  Hello  \"\n",
    "print(a.lower())\n",
    "print(a.upper())\n",
    "print(a.strip())\n",
    "print(a.lstrip())\n",
    "print(a.rstrip())\n",
    "print(a.upper())\n",
    "print(a.title())\n",
    "print(a.capitalize())\n",
    "print(a.split())\n",
    "print(a.replace(\"e\",\"l\"))\n",
    "print(a.find(\"l\"))\n",
    "print(a.startswith(\"H\"))\n",
    "print(a.swapcase())\n",
    "print(a.isupper())\n",
    "print(a.istitle())"
   ]
  },
  {
   "cell_type": "markdown",
   "metadata": {},
   "source": [
    "# Q.3"
   ]
  },
  {
   "cell_type": "code",
   "execution_count": 25,
   "metadata": {},
   "outputs": [
    {
     "name": "stdout",
     "output_type": "stream",
     "text": [
      "Select 1 To Check If String Is Palindrone Or Not /n Select 2 To Check If String Is Anagram Or Not1\n",
      "Enter your Stringakshat\n",
      "['a', 'k', 's', 'h', 'a', 't']\n",
      "Given String is not palindrone\n",
      "None Of them!\n"
     ]
    }
   ],
   "source": [
    "def palin():\n",
    "    global palindrone\n",
    "    a=list(input(\"Enter your String\"))\n",
    "    print(a)\n",
    "    for i in range(0,len(a)):\n",
    "        if a[i]==a[len(a)-(i+1)]:\n",
    "            palindrone=True\n",
    "        else:\n",
    "            palindrone=False\n",
    "            break\n",
    "    if palindrone == True:\n",
    "        print(\"Given String is Palindrone\")\n",
    "    else:\n",
    "        print(\"Given String is not palindrone\")\n",
    "    \n",
    "def anagram():\n",
    "    global Anagram_condition\n",
    "    first_string=list(input(\"Enter your First string\"))\n",
    "    print(first_string)\n",
    "    second_string=list(input(\"Enter Your Second String\"))\n",
    "    print(second_string)\n",
    "    for i in second_string:\n",
    "        if i in first_string:\n",
    "            Anagram_condition=True\n",
    "        else:\n",
    "            Anagram_condition=False\n",
    "            break\n",
    "        \n",
    "    if Anagram_condition==True:\n",
    "        print(\"Given string is Anagram\")\n",
    "    else:\n",
    "        print(\"Given string is not an Anagram\")\n",
    "        \n",
    "Choice=int(input(\"Select 1 To Check If String Is Palindrone Or Not /n Select 2 To Check If String Is Anagram Or Not\"))\n",
    "\n",
    "Anagram_condition=False\n",
    "palindrone=False\n",
    "\n",
    "if Choice==1:\n",
    "    palin()\n",
    "else:\n",
    "    anagram()\n",
    "    \n",
    "    \n",
    "if palindrone==True and Anagram_condition ==True:\n",
    "    print(\"Given String is palindrone & Anagram\")\n",
    "elif palindrone==True:\n",
    "    print(\"Given String is palidrone\")\n",
    "elif Anagram_condition==True:\n",
    "    print(\"Given String is Anagram\")\n",
    "else:\n",
    "    print(\"None Of them!\")"
   ]
  },
  {
   "cell_type": "markdown",
   "metadata": {},
   "source": [
    "# Q.4"
   ]
  },
  {
   "cell_type": "code",
   "execution_count": 27,
   "metadata": {},
   "outputs": [
    {
     "name": "stdout",
     "output_type": "stream",
     "text": [
      "Enter your String\"Akshat 123 @ jain \"\n"
     ]
    },
    {
     "data": {
      "text/plain": [
       "'Akshat123jain'"
      ]
     },
     "execution_count": 27,
     "metadata": {},
     "output_type": "execute_result"
    }
   ],
   "source": [
    "def removal():\n",
    "    str=\"\"\n",
    "    a=input(\"Enter your String\")\n",
    "    for i in a :\n",
    "        if i.isalnum():\n",
    "            str=str+i\n",
    "    return str\n",
    "removal()\n",
    "    "
   ]
  },
  {
   "cell_type": "code",
   "execution_count": null,
   "metadata": {},
   "outputs": [],
   "source": []
  }
 ],
 "metadata": {
  "kernelspec": {
   "display_name": "Python 3",
   "language": "python",
   "name": "python3"
  },
  "language_info": {
   "codemirror_mode": {
    "name": "ipython",
    "version": 3
   },
   "file_extension": ".py",
   "mimetype": "text/x-python",
   "name": "python",
   "nbconvert_exporter": "python",
   "pygments_lexer": "ipython3",
   "version": "3.7.6"
  }
 },
 "nbformat": 4,
 "nbformat_minor": 4
}
