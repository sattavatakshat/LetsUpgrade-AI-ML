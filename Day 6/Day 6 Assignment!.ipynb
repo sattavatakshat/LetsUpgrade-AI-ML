{
 "cells": [
  {
   "cell_type": "markdown",
   "metadata": {},
   "source": [
    "# Q.1"
   ]
  },
  {
   "cell_type": "code",
   "execution_count": 8,
   "metadata": {},
   "outputs": [
    {
     "name": "stdout",
     "output_type": "stream",
     "text": [
      "Please enter your email addresssattavat.akshat@gmail.com\n",
      "gmail\n"
     ]
    }
   ],
   "source": [
    "email_id=list(input(\"Please enter your email address\").split(\"@\"))\n",
    "for i in email_id:\n",
    "    if \".\" in i :\n",
    "        b=list(i.split(\".\"))\n",
    "        \n",
    "print(b[0])\n",
    "    \n",
    "        \n"
   ]
  },
  {
   "cell_type": "markdown",
   "metadata": {},
   "source": [
    "# Q.2"
   ]
  },
  {
   "cell_type": "code",
   "execution_count": 10,
   "metadata": {},
   "outputs": [
    {
     "name": "stdout",
     "output_type": "stream",
     "text": [
      "Enter Comma Sepertated Value!akshat,jain,bad\n",
      "akshat,bad,jain\n"
     ]
    }
   ],
   "source": [
    "user=list(input(\"Enter Comma Sepertated Value!\").split(\",\"))\n",
    "user=sorted(user)\n",
    "user=\",\".join(user)\n",
    "print(user)\n"
   ]
  },
  {
   "cell_type": "markdown",
   "metadata": {},
   "source": [
    "# Q.4"
   ]
  },
  {
   "cell_type": "code",
   "execution_count": 25,
   "metadata": {},
   "outputs": [
    {
     "name": "stdout",
     "output_type": "stream",
     "text": [
      "Enter Numbers inside the list 1 2 4 6 3 7 8\n",
      "5\n"
     ]
    }
   ],
   "source": [
    "numbers=list(input(\"Enter Numbers inside the list \").split(\" \"))\n",
    "\n",
    "numbers=sorted(numbers)\n",
    "\n",
    "numbers=list(map(lambda x : int(x),numbers))\n",
    "\n",
    "a=int(numbers[0])\n",
    "\n",
    "z=(int(numbers[0])+len(numbers))\n",
    "\n",
    "for i in range(a,z):\n",
    "    if i in numbers:\n",
    "        pass\n",
    "    else:\n",
    "        print(i)"
   ]
  },
  {
   "cell_type": "markdown",
   "metadata": {},
   "source": [
    "# Q.5"
   ]
  },
  {
   "cell_type": "code",
   "execution_count": 28,
   "metadata": {},
   "outputs": [
    {
     "name": "stdout",
     "output_type": "stream",
     "text": [
      "Enter the numbers4 5 6 7 8 6 9 10 11 15 8\n",
      "[4, 5, 6, 7, 8, 9, 10, 11, 15]\n"
     ]
    }
   ],
   "source": [
    "user=list(input(\"Enter the numbers\").split(\" \"))\n",
    "user=list(map(lambda x : int(x),user))\n",
    "user=set(user)\n",
    "user=list(sorted(user))\n",
    "print(user)"
   ]
  },
  {
   "cell_type": "code",
   "execution_count": null,
   "metadata": {},
   "outputs": [],
   "source": []
  },
  {
   "cell_type": "code",
   "execution_count": null,
   "metadata": {},
   "outputs": [],
   "source": []
  }
 ],
 "metadata": {
  "kernelspec": {
   "display_name": "Python 3",
   "language": "python",
   "name": "python3"
  },
  "language_info": {
   "codemirror_mode": {
    "name": "ipython",
    "version": 3
   },
   "file_extension": ".py",
   "mimetype": "text/x-python",
   "name": "python",
   "nbconvert_exporter": "python",
   "pygments_lexer": "ipython3",
   "version": "3.7.6"
  }
 },
 "nbformat": 4,
 "nbformat_minor": 4
}
