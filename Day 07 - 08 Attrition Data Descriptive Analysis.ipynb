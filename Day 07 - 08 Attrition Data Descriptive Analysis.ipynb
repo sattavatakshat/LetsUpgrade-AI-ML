{
 "cells": [
  {
   "cell_type": "markdown",
   "metadata": {},
   "source": [
    "### Problem Statement\n",
    "\n",
    "Problem Statement A large company named XYZ, employs, at any given point of time, around 4000 employees. However, every year, around 15% of its employees leave the company and need to be replaced with the talent pool available in the job market. The management believes that this level of attrition (employees leaving, either on their own or because they got fired) is bad for the company, because of the following reasons -\n",
    "\n",
    "The former employees’ projects get delayed, which makes it difficult to meet timelines, resulting in a reputation loss among consumers and partners\n",
    "A sizeable department has to be maintained, for the purposes of recruiting new talent\n",
    "More often than not, the new employees have to be trained for the job and/or given time to acclimatise themselves to the company\n",
    "Hence, the management has contracted an HR analytics firm to understand what factors they should focus on, in order to curb attrition. In other words, they want to know what changes they should make to their workplace, in order to get most of their employees to stay. Also, they want to know which of these variables is most important and needs to be addressed right away.\n",
    "\n",
    "Since you are one of the star analysts at the firm, this project has been given to you.\n",
    "\n",
    "Goal of the case study You are required to model the probability of attrition. The results thus obtained will be used by the management to understand what changes they should make to their workplace, in order to get most of their employees to stay.\n",
    "\n"
   ]
  },
  {
   "cell_type": "markdown",
   "metadata": {},
   "source": [
    "#### Importing Important Packages"
   ]
  },
  {
   "cell_type": "code",
   "execution_count": 70,
   "metadata": {},
   "outputs": [],
   "source": [
    "import pandas as pd \n",
    "import numpy as np\n",
    "import matplotlib.pyplot as plt\n",
    "import seaborn as sns\n",
    "from sklearn import preprocessing\n",
    "%matplotlib inline\n"
   ]
  },
  {
   "cell_type": "code",
   "execution_count": 71,
   "metadata": {},
   "outputs": [],
   "source": [
    "dataset=pd.read_csv(\"general_data (1).csv\") # Since this is CSV file no need to include Sheetname Like XLSX File"
   ]
  },
  {
   "cell_type": "code",
   "execution_count": 72,
   "metadata": {},
   "outputs": [
    {
     "data": {
      "text/html": [
       "<div>\n",
       "<style scoped>\n",
       "    .dataframe tbody tr th:only-of-type {\n",
       "        vertical-align: middle;\n",
       "    }\n",
       "\n",
       "    .dataframe tbody tr th {\n",
       "        vertical-align: top;\n",
       "    }\n",
       "\n",
       "    .dataframe thead th {\n",
       "        text-align: right;\n",
       "    }\n",
       "</style>\n",
       "<table border=\"1\" class=\"dataframe\">\n",
       "  <thead>\n",
       "    <tr style=\"text-align: right;\">\n",
       "      <th></th>\n",
       "      <th>Age</th>\n",
       "      <th>Attrition</th>\n",
       "      <th>BusinessTravel</th>\n",
       "      <th>Department</th>\n",
       "      <th>DistanceFromHome</th>\n",
       "      <th>Education</th>\n",
       "      <th>EducationField</th>\n",
       "      <th>EmployeeCount</th>\n",
       "      <th>EmployeeID</th>\n",
       "      <th>Gender</th>\n",
       "      <th>...</th>\n",
       "      <th>NumCompaniesWorked</th>\n",
       "      <th>Over18</th>\n",
       "      <th>PercentSalaryHike</th>\n",
       "      <th>StandardHours</th>\n",
       "      <th>StockOptionLevel</th>\n",
       "      <th>TotalWorkingYears</th>\n",
       "      <th>TrainingTimesLastYear</th>\n",
       "      <th>YearsAtCompany</th>\n",
       "      <th>YearsSinceLastPromotion</th>\n",
       "      <th>YearsWithCurrManager</th>\n",
       "    </tr>\n",
       "  </thead>\n",
       "  <tbody>\n",
       "    <tr>\n",
       "      <th>0</th>\n",
       "      <td>51</td>\n",
       "      <td>No</td>\n",
       "      <td>Travel_Rarely</td>\n",
       "      <td>Sales</td>\n",
       "      <td>6</td>\n",
       "      <td>2</td>\n",
       "      <td>Life Sciences</td>\n",
       "      <td>1</td>\n",
       "      <td>1</td>\n",
       "      <td>Female</td>\n",
       "      <td>...</td>\n",
       "      <td>1.0</td>\n",
       "      <td>Y</td>\n",
       "      <td>11</td>\n",
       "      <td>8</td>\n",
       "      <td>0</td>\n",
       "      <td>1.0</td>\n",
       "      <td>6</td>\n",
       "      <td>1</td>\n",
       "      <td>0</td>\n",
       "      <td>0</td>\n",
       "    </tr>\n",
       "    <tr>\n",
       "      <th>1</th>\n",
       "      <td>31</td>\n",
       "      <td>Yes</td>\n",
       "      <td>Travel_Frequently</td>\n",
       "      <td>Research &amp; Development</td>\n",
       "      <td>10</td>\n",
       "      <td>1</td>\n",
       "      <td>Life Sciences</td>\n",
       "      <td>1</td>\n",
       "      <td>2</td>\n",
       "      <td>Female</td>\n",
       "      <td>...</td>\n",
       "      <td>0.0</td>\n",
       "      <td>Y</td>\n",
       "      <td>23</td>\n",
       "      <td>8</td>\n",
       "      <td>1</td>\n",
       "      <td>6.0</td>\n",
       "      <td>3</td>\n",
       "      <td>5</td>\n",
       "      <td>1</td>\n",
       "      <td>4</td>\n",
       "    </tr>\n",
       "    <tr>\n",
       "      <th>2</th>\n",
       "      <td>32</td>\n",
       "      <td>No</td>\n",
       "      <td>Travel_Frequently</td>\n",
       "      <td>Research &amp; Development</td>\n",
       "      <td>17</td>\n",
       "      <td>4</td>\n",
       "      <td>Other</td>\n",
       "      <td>1</td>\n",
       "      <td>3</td>\n",
       "      <td>Male</td>\n",
       "      <td>...</td>\n",
       "      <td>1.0</td>\n",
       "      <td>Y</td>\n",
       "      <td>15</td>\n",
       "      <td>8</td>\n",
       "      <td>3</td>\n",
       "      <td>5.0</td>\n",
       "      <td>2</td>\n",
       "      <td>5</td>\n",
       "      <td>0</td>\n",
       "      <td>3</td>\n",
       "    </tr>\n",
       "    <tr>\n",
       "      <th>3</th>\n",
       "      <td>38</td>\n",
       "      <td>No</td>\n",
       "      <td>Non-Travel</td>\n",
       "      <td>Research &amp; Development</td>\n",
       "      <td>2</td>\n",
       "      <td>5</td>\n",
       "      <td>Life Sciences</td>\n",
       "      <td>1</td>\n",
       "      <td>4</td>\n",
       "      <td>Male</td>\n",
       "      <td>...</td>\n",
       "      <td>3.0</td>\n",
       "      <td>Y</td>\n",
       "      <td>11</td>\n",
       "      <td>8</td>\n",
       "      <td>3</td>\n",
       "      <td>13.0</td>\n",
       "      <td>5</td>\n",
       "      <td>8</td>\n",
       "      <td>7</td>\n",
       "      <td>5</td>\n",
       "    </tr>\n",
       "    <tr>\n",
       "      <th>4</th>\n",
       "      <td>32</td>\n",
       "      <td>No</td>\n",
       "      <td>Travel_Rarely</td>\n",
       "      <td>Research &amp; Development</td>\n",
       "      <td>10</td>\n",
       "      <td>1</td>\n",
       "      <td>Medical</td>\n",
       "      <td>1</td>\n",
       "      <td>5</td>\n",
       "      <td>Male</td>\n",
       "      <td>...</td>\n",
       "      <td>4.0</td>\n",
       "      <td>Y</td>\n",
       "      <td>12</td>\n",
       "      <td>8</td>\n",
       "      <td>2</td>\n",
       "      <td>9.0</td>\n",
       "      <td>2</td>\n",
       "      <td>6</td>\n",
       "      <td>0</td>\n",
       "      <td>4</td>\n",
       "    </tr>\n",
       "  </tbody>\n",
       "</table>\n",
       "<p>5 rows × 24 columns</p>\n",
       "</div>"
      ],
      "text/plain": [
       "   Age Attrition     BusinessTravel              Department  DistanceFromHome  \\\n",
       "0   51        No      Travel_Rarely                   Sales                 6   \n",
       "1   31       Yes  Travel_Frequently  Research & Development                10   \n",
       "2   32        No  Travel_Frequently  Research & Development                17   \n",
       "3   38        No         Non-Travel  Research & Development                 2   \n",
       "4   32        No      Travel_Rarely  Research & Development                10   \n",
       "\n",
       "   Education EducationField  EmployeeCount  EmployeeID  Gender  ...  \\\n",
       "0          2  Life Sciences              1           1  Female  ...   \n",
       "1          1  Life Sciences              1           2  Female  ...   \n",
       "2          4          Other              1           3    Male  ...   \n",
       "3          5  Life Sciences              1           4    Male  ...   \n",
       "4          1        Medical              1           5    Male  ...   \n",
       "\n",
       "   NumCompaniesWorked Over18 PercentSalaryHike  StandardHours  \\\n",
       "0                 1.0      Y                11              8   \n",
       "1                 0.0      Y                23              8   \n",
       "2                 1.0      Y                15              8   \n",
       "3                 3.0      Y                11              8   \n",
       "4                 4.0      Y                12              8   \n",
       "\n",
       "   StockOptionLevel TotalWorkingYears  TrainingTimesLastYear  YearsAtCompany  \\\n",
       "0                 0               1.0                      6               1   \n",
       "1                 1               6.0                      3               5   \n",
       "2                 3               5.0                      2               5   \n",
       "3                 3              13.0                      5               8   \n",
       "4                 2               9.0                      2               6   \n",
       "\n",
       "   YearsSinceLastPromotion  YearsWithCurrManager  \n",
       "0                        0                     0  \n",
       "1                        1                     4  \n",
       "2                        0                     3  \n",
       "3                        7                     5  \n",
       "4                        0                     4  \n",
       "\n",
       "[5 rows x 24 columns]"
      ]
     },
     "execution_count": 72,
     "metadata": {},
     "output_type": "execute_result"
    }
   ],
   "source": [
    "dataset.head()"
   ]
  },
  {
   "cell_type": "code",
   "execution_count": 73,
   "metadata": {},
   "outputs": [
    {
     "data": {
      "text/plain": [
       "Index(['Age', 'DistanceFromHome', 'Education', 'EmployeeCount', 'EmployeeID',\n",
       "       'JobLevel', 'MonthlyIncome', 'NumCompaniesWorked', 'PercentSalaryHike',\n",
       "       'StandardHours', 'StockOptionLevel', 'TotalWorkingYears',\n",
       "       'TrainingTimesLastYear', 'YearsAtCompany', 'YearsSinceLastPromotion',\n",
       "       'YearsWithCurrManager'],\n",
       "      dtype='object')"
      ]
     },
     "execution_count": 73,
     "metadata": {},
     "output_type": "execute_result"
    }
   ],
   "source": [
    "dataset.describe().columns"
   ]
  },
  {
   "cell_type": "code",
   "execution_count": 74,
   "metadata": {},
   "outputs": [
    {
     "data": {
      "text/html": [
       "<div>\n",
       "<style scoped>\n",
       "    .dataframe tbody tr th:only-of-type {\n",
       "        vertical-align: middle;\n",
       "    }\n",
       "\n",
       "    .dataframe tbody tr th {\n",
       "        vertical-align: top;\n",
       "    }\n",
       "\n",
       "    .dataframe thead th {\n",
       "        text-align: right;\n",
       "    }\n",
       "</style>\n",
       "<table border=\"1\" class=\"dataframe\">\n",
       "  <thead>\n",
       "    <tr style=\"text-align: right;\">\n",
       "      <th></th>\n",
       "      <th>Age</th>\n",
       "      <th>DistanceFromHome</th>\n",
       "      <th>Education</th>\n",
       "      <th>EmployeeCount</th>\n",
       "      <th>EmployeeID</th>\n",
       "      <th>JobLevel</th>\n",
       "      <th>MonthlyIncome</th>\n",
       "      <th>NumCompaniesWorked</th>\n",
       "      <th>PercentSalaryHike</th>\n",
       "      <th>StandardHours</th>\n",
       "      <th>StockOptionLevel</th>\n",
       "      <th>TotalWorkingYears</th>\n",
       "      <th>TrainingTimesLastYear</th>\n",
       "      <th>YearsAtCompany</th>\n",
       "      <th>YearsSinceLastPromotion</th>\n",
       "      <th>YearsWithCurrManager</th>\n",
       "    </tr>\n",
       "  </thead>\n",
       "  <tbody>\n",
       "    <tr>\n",
       "      <th>count</th>\n",
       "      <td>4410.000000</td>\n",
       "      <td>4410.000000</td>\n",
       "      <td>4410.000000</td>\n",
       "      <td>4410.0</td>\n",
       "      <td>4410.000000</td>\n",
       "      <td>4410.000000</td>\n",
       "      <td>4410.000000</td>\n",
       "      <td>4391.000000</td>\n",
       "      <td>4410.000000</td>\n",
       "      <td>4410.0</td>\n",
       "      <td>4410.000000</td>\n",
       "      <td>4401.000000</td>\n",
       "      <td>4410.000000</td>\n",
       "      <td>4410.000000</td>\n",
       "      <td>4410.000000</td>\n",
       "      <td>4410.000000</td>\n",
       "    </tr>\n",
       "    <tr>\n",
       "      <th>mean</th>\n",
       "      <td>36.923810</td>\n",
       "      <td>9.192517</td>\n",
       "      <td>2.912925</td>\n",
       "      <td>1.0</td>\n",
       "      <td>2205.500000</td>\n",
       "      <td>2.063946</td>\n",
       "      <td>65029.312925</td>\n",
       "      <td>2.694830</td>\n",
       "      <td>15.209524</td>\n",
       "      <td>8.0</td>\n",
       "      <td>0.793878</td>\n",
       "      <td>11.279936</td>\n",
       "      <td>2.799320</td>\n",
       "      <td>7.008163</td>\n",
       "      <td>2.187755</td>\n",
       "      <td>4.123129</td>\n",
       "    </tr>\n",
       "    <tr>\n",
       "      <th>std</th>\n",
       "      <td>9.133301</td>\n",
       "      <td>8.105026</td>\n",
       "      <td>1.023933</td>\n",
       "      <td>0.0</td>\n",
       "      <td>1273.201673</td>\n",
       "      <td>1.106689</td>\n",
       "      <td>47068.888559</td>\n",
       "      <td>2.498887</td>\n",
       "      <td>3.659108</td>\n",
       "      <td>0.0</td>\n",
       "      <td>0.851883</td>\n",
       "      <td>7.782222</td>\n",
       "      <td>1.288978</td>\n",
       "      <td>6.125135</td>\n",
       "      <td>3.221699</td>\n",
       "      <td>3.567327</td>\n",
       "    </tr>\n",
       "    <tr>\n",
       "      <th>min</th>\n",
       "      <td>18.000000</td>\n",
       "      <td>1.000000</td>\n",
       "      <td>1.000000</td>\n",
       "      <td>1.0</td>\n",
       "      <td>1.000000</td>\n",
       "      <td>1.000000</td>\n",
       "      <td>10090.000000</td>\n",
       "      <td>0.000000</td>\n",
       "      <td>11.000000</td>\n",
       "      <td>8.0</td>\n",
       "      <td>0.000000</td>\n",
       "      <td>0.000000</td>\n",
       "      <td>0.000000</td>\n",
       "      <td>0.000000</td>\n",
       "      <td>0.000000</td>\n",
       "      <td>0.000000</td>\n",
       "    </tr>\n",
       "    <tr>\n",
       "      <th>25%</th>\n",
       "      <td>30.000000</td>\n",
       "      <td>2.000000</td>\n",
       "      <td>2.000000</td>\n",
       "      <td>1.0</td>\n",
       "      <td>1103.250000</td>\n",
       "      <td>1.000000</td>\n",
       "      <td>29110.000000</td>\n",
       "      <td>1.000000</td>\n",
       "      <td>12.000000</td>\n",
       "      <td>8.0</td>\n",
       "      <td>0.000000</td>\n",
       "      <td>6.000000</td>\n",
       "      <td>2.000000</td>\n",
       "      <td>3.000000</td>\n",
       "      <td>0.000000</td>\n",
       "      <td>2.000000</td>\n",
       "    </tr>\n",
       "    <tr>\n",
       "      <th>50%</th>\n",
       "      <td>36.000000</td>\n",
       "      <td>7.000000</td>\n",
       "      <td>3.000000</td>\n",
       "      <td>1.0</td>\n",
       "      <td>2205.500000</td>\n",
       "      <td>2.000000</td>\n",
       "      <td>49190.000000</td>\n",
       "      <td>2.000000</td>\n",
       "      <td>14.000000</td>\n",
       "      <td>8.0</td>\n",
       "      <td>1.000000</td>\n",
       "      <td>10.000000</td>\n",
       "      <td>3.000000</td>\n",
       "      <td>5.000000</td>\n",
       "      <td>1.000000</td>\n",
       "      <td>3.000000</td>\n",
       "    </tr>\n",
       "    <tr>\n",
       "      <th>75%</th>\n",
       "      <td>43.000000</td>\n",
       "      <td>14.000000</td>\n",
       "      <td>4.000000</td>\n",
       "      <td>1.0</td>\n",
       "      <td>3307.750000</td>\n",
       "      <td>3.000000</td>\n",
       "      <td>83800.000000</td>\n",
       "      <td>4.000000</td>\n",
       "      <td>18.000000</td>\n",
       "      <td>8.0</td>\n",
       "      <td>1.000000</td>\n",
       "      <td>15.000000</td>\n",
       "      <td>3.000000</td>\n",
       "      <td>9.000000</td>\n",
       "      <td>3.000000</td>\n",
       "      <td>7.000000</td>\n",
       "    </tr>\n",
       "    <tr>\n",
       "      <th>max</th>\n",
       "      <td>60.000000</td>\n",
       "      <td>29.000000</td>\n",
       "      <td>5.000000</td>\n",
       "      <td>1.0</td>\n",
       "      <td>4410.000000</td>\n",
       "      <td>5.000000</td>\n",
       "      <td>199990.000000</td>\n",
       "      <td>9.000000</td>\n",
       "      <td>25.000000</td>\n",
       "      <td>8.0</td>\n",
       "      <td>3.000000</td>\n",
       "      <td>40.000000</td>\n",
       "      <td>6.000000</td>\n",
       "      <td>40.000000</td>\n",
       "      <td>15.000000</td>\n",
       "      <td>17.000000</td>\n",
       "    </tr>\n",
       "  </tbody>\n",
       "</table>\n",
       "</div>"
      ],
      "text/plain": [
       "               Age  DistanceFromHome    Education  EmployeeCount   EmployeeID  \\\n",
       "count  4410.000000       4410.000000  4410.000000         4410.0  4410.000000   \n",
       "mean     36.923810          9.192517     2.912925            1.0  2205.500000   \n",
       "std       9.133301          8.105026     1.023933            0.0  1273.201673   \n",
       "min      18.000000          1.000000     1.000000            1.0     1.000000   \n",
       "25%      30.000000          2.000000     2.000000            1.0  1103.250000   \n",
       "50%      36.000000          7.000000     3.000000            1.0  2205.500000   \n",
       "75%      43.000000         14.000000     4.000000            1.0  3307.750000   \n",
       "max      60.000000         29.000000     5.000000            1.0  4410.000000   \n",
       "\n",
       "          JobLevel  MonthlyIncome  NumCompaniesWorked  PercentSalaryHike  \\\n",
       "count  4410.000000    4410.000000         4391.000000        4410.000000   \n",
       "mean      2.063946   65029.312925            2.694830          15.209524   \n",
       "std       1.106689   47068.888559            2.498887           3.659108   \n",
       "min       1.000000   10090.000000            0.000000          11.000000   \n",
       "25%       1.000000   29110.000000            1.000000          12.000000   \n",
       "50%       2.000000   49190.000000            2.000000          14.000000   \n",
       "75%       3.000000   83800.000000            4.000000          18.000000   \n",
       "max       5.000000  199990.000000            9.000000          25.000000   \n",
       "\n",
       "       StandardHours  StockOptionLevel  TotalWorkingYears  \\\n",
       "count         4410.0       4410.000000        4401.000000   \n",
       "mean             8.0          0.793878          11.279936   \n",
       "std              0.0          0.851883           7.782222   \n",
       "min              8.0          0.000000           0.000000   \n",
       "25%              8.0          0.000000           6.000000   \n",
       "50%              8.0          1.000000          10.000000   \n",
       "75%              8.0          1.000000          15.000000   \n",
       "max              8.0          3.000000          40.000000   \n",
       "\n",
       "       TrainingTimesLastYear  YearsAtCompany  YearsSinceLastPromotion  \\\n",
       "count            4410.000000     4410.000000              4410.000000   \n",
       "mean                2.799320        7.008163                 2.187755   \n",
       "std                 1.288978        6.125135                 3.221699   \n",
       "min                 0.000000        0.000000                 0.000000   \n",
       "25%                 2.000000        3.000000                 0.000000   \n",
       "50%                 3.000000        5.000000                 1.000000   \n",
       "75%                 3.000000        9.000000                 3.000000   \n",
       "max                 6.000000       40.000000                15.000000   \n",
       "\n",
       "       YearsWithCurrManager  \n",
       "count           4410.000000  \n",
       "mean               4.123129  \n",
       "std                3.567327  \n",
       "min                0.000000  \n",
       "25%                2.000000  \n",
       "50%                3.000000  \n",
       "75%                7.000000  \n",
       "max               17.000000  "
      ]
     },
     "execution_count": 74,
     "metadata": {},
     "output_type": "execute_result"
    }
   ],
   "source": [
    "dataset.describe()"
   ]
  },
  {
   "cell_type": "markdown",
   "metadata": {},
   "source": [
    "#### Finding out the Numerical Columns from the dataset whose value is in numbers"
   ]
  },
  {
   "cell_type": "code",
   "execution_count": 75,
   "metadata": {},
   "outputs": [],
   "source": [
    "Numerical_columns=['Age', 'DistanceFromHome', 'Education', 'EmployeeCount', 'EmployeeID',\n",
    "       'JobLevel', 'MonthlyIncome', 'NumCompaniesWorked', 'PercentSalaryHike',\n",
    "       'StandardHours', 'StockOptionLevel', 'TotalWorkingYears',\n",
    "       'TrainingTimesLastYear', 'YearsAtCompany', 'YearsSinceLastPromotion',\n",
    "       'YearsWithCurrManager']"
   ]
  },
  {
   "cell_type": "markdown",
   "metadata": {},
   "source": [
    "#### Finding Null Values"
   ]
  },
  {
   "cell_type": "code",
   "execution_count": 76,
   "metadata": {},
   "outputs": [
    {
     "data": {
      "text/plain": [
       "Age                         0\n",
       "Attrition                   0\n",
       "BusinessTravel              0\n",
       "Department                  0\n",
       "DistanceFromHome            0\n",
       "Education                   0\n",
       "EducationField              0\n",
       "EmployeeCount               0\n",
       "EmployeeID                  0\n",
       "Gender                      0\n",
       "JobLevel                    0\n",
       "JobRole                     0\n",
       "MaritalStatus               0\n",
       "MonthlyIncome               0\n",
       "NumCompaniesWorked         19\n",
       "Over18                      0\n",
       "PercentSalaryHike           0\n",
       "StandardHours               0\n",
       "StockOptionLevel            0\n",
       "TotalWorkingYears           9\n",
       "TrainingTimesLastYear       0\n",
       "YearsAtCompany              0\n",
       "YearsSinceLastPromotion     0\n",
       "YearsWithCurrManager        0\n",
       "dtype: int64"
      ]
     },
     "execution_count": 76,
     "metadata": {},
     "output_type": "execute_result"
    }
   ],
   "source": [
    "dataset.isnull().sum()"
   ]
  },
  {
   "cell_type": "markdown",
   "metadata": {},
   "source": [
    "#### Filling the null values with the mean"
   ]
  },
  {
   "cell_type": "code",
   "execution_count": 77,
   "metadata": {},
   "outputs": [],
   "source": [
    "dataset.fillna(dataset.mean(),inplace=True) ### inplace = True means replacing the orignal dataset"
   ]
  },
  {
   "cell_type": "code",
   "execution_count": 78,
   "metadata": {},
   "outputs": [
    {
     "data": {
      "text/plain": [
       "Age                        0\n",
       "Attrition                  0\n",
       "BusinessTravel             0\n",
       "Department                 0\n",
       "DistanceFromHome           0\n",
       "Education                  0\n",
       "EducationField             0\n",
       "EmployeeCount              0\n",
       "EmployeeID                 0\n",
       "Gender                     0\n",
       "JobLevel                   0\n",
       "JobRole                    0\n",
       "MaritalStatus              0\n",
       "MonthlyIncome              0\n",
       "NumCompaniesWorked         0\n",
       "Over18                     0\n",
       "PercentSalaryHike          0\n",
       "StandardHours              0\n",
       "StockOptionLevel           0\n",
       "TotalWorkingYears          0\n",
       "TrainingTimesLastYear      0\n",
       "YearsAtCompany             0\n",
       "YearsSinceLastPromotion    0\n",
       "YearsWithCurrManager       0\n",
       "dtype: int64"
      ]
     },
     "execution_count": 78,
     "metadata": {},
     "output_type": "execute_result"
    }
   ],
   "source": [
    "dataset.isnull().sum()"
   ]
  },
  {
   "cell_type": "markdown",
   "metadata": {},
   "source": [
    "#### No Null Values in the dataset"
   ]
  },
  {
   "cell_type": "markdown",
   "metadata": {},
   "source": [
    "### Removing the Outliers from the dataset"
   ]
  },
  {
   "cell_type": "code",
   "execution_count": 79,
   "metadata": {},
   "outputs": [
    {
     "name": "stdout",
     "output_type": "stream",
     "text": [
      "Age\n"
     ]
    },
    {
     "data": {
      "image/png": "[encoded data removed]",
      "text/plain": [
       "<Figure size 432x288 with 1 Axes>"
      ]
     },
     "metadata": {
      "needs_background": "light"
     },
     "output_type": "display_data"
    },
    {
     "name": "stdout",
     "output_type": "stream",
     "text": [
      "DistanceFromHome\n"
     ]
    },
    {
     "data": {
      "image/png": "[encoded data removed]",
      "text/plain": [
       "<Figure size 432x288 with 1 Axes>"
      ]
     },
     "metadata": {
      "needs_background": "light"
     },
     "output_type": "display_data"
    },
    {
     "name": "stdout",
     "output_type": "stream",
     "text": [
      "Education\n"
     ]
    },
    {
     "data": {
      "image/png": "[encoded data removed]",
      "text/plain": [
       "<Figure size 432x288 with 1 Axes>"
      ]
     },
     "metadata": {
      "needs_background": "light"
     },
     "output_type": "display_data"
    },
    {
     "name": "stdout",
     "output_type": "stream",
     "text": [
      "EmployeeCount\n"
     ]
    },
    {
     "data": {
      "image/png": "[encoded data removed]",
      "text/plain": [
       "<Figure size 432x288 with 1 Axes>"
      ]
     },
     "metadata": {
      "needs_background": "light"
     },
     "output_type": "display_data"
    },
    {
     "name": "stdout",
     "output_type": "stream",
     "text": [
      "EmployeeID\n"
     ]
    },
    {
     "data": {
      "image/png": "[encoded data removed]",
      "text/plain": [
       "<Figure size 432x288 with 1 Axes>"
      ]
     },
     "metadata": {
      "needs_background": "light"
     },
     "output_type": "display_data"
    },
    {
     "name": "stdout",
     "output_type": "stream",
     "text": [
      "JobLevel\n"
     ]
    },
    {
     "data": {
      "image/png": "[encoded data removed]",
      "text/plain": [
       "<Figure size 432x288 with 1 Axes>"
      ]
     },
     "metadata": {
      "needs_background": "light"
     },
     "output_type": "display_data"
    },
    {
     "name": "stdout",
     "output_type": "stream",
     "text": [
      "MonthlyIncome\n"
     ]
    },
    {
     "data": {
      "image/png": "[encoded data removed]",
      "text/plain": [
       "<Figure size 432x288 with 1 Axes>"
      ]
     },
     "metadata": {
      "needs_background": "light"
     },
     "output_type": "display_data"
    },
    {
     "name": "stdout",
     "output_type": "stream",
     "text": [
      "NumCompaniesWorked\n"
     ]
    },
    {
     "data": {
      "image/png": "[encoded data removed]",
      "text/plain": [
       "<Figure size 432x288 with 1 Axes>"
      ]
     },
     "metadata": {
      "needs_background": "light"
     },
     "output_type": "display_data"
    },
    {
     "name": "stdout",
     "output_type": "stream",
     "text": [
      "PercentSalaryHike\n"
     ]
    },
    {
     "data": {
      "image/png": "[encoded data removed]",
      "text/plain": [
       "<Figure size 432x288 with 1 Axes>"
      ]
     },
     "metadata": {
      "needs_background": "light"
     },
     "output_type": "display_data"
    },
    {
     "name": "stdout",
     "output_type": "stream",
     "text": [
      "StandardHours\n"
     ]
    },
    {
     "data": {
      "image/png": "[encoded data removed]",
      "text/plain": [
       "<Figure size 432x288 with 1 Axes>"
      ]
     },
     "metadata": {
      "needs_background": "light"
     },
     "output_type": "display_data"
    },
    {
     "name": "stdout",
     "output_type": "stream",
     "text": [
      "StockOptionLevel\n"
     ]
    },
    {
     "data": {
      "image/png": "[encoded data removed]",
      "text/plain": [
       "<Figure size 432x288 with 1 Axes>"
      ]
     },
     "metadata": {
      "needs_background": "light"
     },
     "output_type": "display_data"
    },
    {
     "name": "stdout",
     "output_type": "stream",
     "text": [
      "TotalWorkingYears\n"
     ]
    },
    {
     "data": {
      "image/png": "[encoded data removed]",
      "text/plain": [
       "<Figure size 432x288 with 1 Axes>"
      ]
     },
     "metadata": {
      "needs_background": "light"
     },
     "output_type": "display_data"
    },
    {
     "name": "stdout",
     "output_type": "stream",
     "text": [
      "TrainingTimesLastYear\n"
     ]
    },
    {
     "data": {
      "image/png": "[encoded data removed]",
      "text/plain": [
       "<Figure size 432x288 with 1 Axes>"
      ]
     },
     "metadata": {
      "needs_background": "light"
     },
     "output_type": "display_data"
    },
    {
     "name": "stdout",
     "output_type": "stream",
     "text": [
      "YearsAtCompany\n"
     ]
    },
    {
     "data": {
      "image/png": "[encoded data removed]",
      "text/plain": [
       "<Figure size 432x288 with 1 Axes>"
      ]
     },
     "metadata": {
      "needs_background": "light"
     },
     "output_type": "display_data"
    },
    {
     "name": "stdout",
     "output_type": "stream",
     "text": [
      "YearsSinceLastPromotion\n"
     ]
    },
    {
     "data": {
      "image/png": "[encoded data removed]",
      "text/plain": [
       "<Figure size 432x288 with 1 Axes>"
      ]
     },
     "metadata": {
      "needs_background": "light"
     },
     "output_type": "display_data"
    },
    {
     "name": "stdout",
     "output_type": "stream",
     "text": [
      "YearsWithCurrManager\n"
     ]
    },
    {
     "data": {
      "image/png": "[encoded data removed]",
      "text/plain": [
       "<Figure size 432x288 with 1 Axes>"
      ]
     },
     "metadata": {
      "needs_background": "light"
     },
     "output_type": "display_data"
    }
   ],
   "source": [
    "for i in Numerical_columns:\n",
    "    print(i)\n",
    "    plt.boxplot(dataset[i])\n",
    "    plt.show()"
   ]
  },
  {
   "cell_type": "code",
   "execution_count": 80,
   "metadata": {},
   "outputs": [],
   "source": [
    "dataset = dataset.loc[dataset[\"MonthlyIncome\"] < 160000]\n",
    "dataset = dataset.loc[dataset[\"NumCompaniesWorked\"] < 6]\n",
    "dataset = dataset.loc[dataset[\"TotalWorkingYears\"] < 28]\n",
    "dataset = dataset.loc[dataset[\"YearsAtCompany\"] < 18]\n",
    "dataset = dataset.loc[dataset[\"YearsSinceLastPromotion\"] < 8]\n",
    "dataset = dataset.loc[dataset[\"YearsWithCurrManager\"] < 13]"
   ]
  },
  {
   "cell_type": "code",
   "execution_count": 81,
   "metadata": {},
   "outputs": [
    {
     "data": {
      "text/html": [
       "<div>\n",
       "<style scoped>\n",
       "    .dataframe tbody tr th:only-of-type {\n",
       "        vertical-align: middle;\n",
       "    }\n",
       "\n",
       "    .dataframe tbody tr th {\n",
       "        vertical-align: top;\n",
       "    }\n",
       "\n",
       "    .dataframe thead th {\n",
       "        text-align: right;\n",
       "    }\n",
       "</style>\n",
       "<table border=\"1\" class=\"dataframe\">\n",
       "  <thead>\n",
       "    <tr style=\"text-align: right;\">\n",
       "      <th></th>\n",
       "      <th>Age</th>\n",
       "      <th>Attrition</th>\n",
       "      <th>BusinessTravel</th>\n",
       "      <th>Department</th>\n",
       "      <th>DistanceFromHome</th>\n",
       "      <th>Education</th>\n",
       "      <th>EducationField</th>\n",
       "      <th>EmployeeCount</th>\n",
       "      <th>EmployeeID</th>\n",
       "      <th>Gender</th>\n",
       "      <th>...</th>\n",
       "      <th>NumCompaniesWorked</th>\n",
       "      <th>Over18</th>\n",
       "      <th>PercentSalaryHike</th>\n",
       "      <th>StandardHours</th>\n",
       "      <th>StockOptionLevel</th>\n",
       "      <th>TotalWorkingYears</th>\n",
       "      <th>TrainingTimesLastYear</th>\n",
       "      <th>YearsAtCompany</th>\n",
       "      <th>YearsSinceLastPromotion</th>\n",
       "      <th>YearsWithCurrManager</th>\n",
       "    </tr>\n",
       "  </thead>\n",
       "  <tbody>\n",
       "    <tr>\n",
       "      <th>0</th>\n",
       "      <td>51</td>\n",
       "      <td>No</td>\n",
       "      <td>Travel_Rarely</td>\n",
       "      <td>Sales</td>\n",
       "      <td>6</td>\n",
       "      <td>2</td>\n",
       "      <td>Life Sciences</td>\n",
       "      <td>1</td>\n",
       "      <td>1</td>\n",
       "      <td>Female</td>\n",
       "      <td>...</td>\n",
       "      <td>1.0</td>\n",
       "      <td>Y</td>\n",
       "      <td>11</td>\n",
       "      <td>8</td>\n",
       "      <td>0</td>\n",
       "      <td>1.0</td>\n",
       "      <td>6</td>\n",
       "      <td>1</td>\n",
       "      <td>0</td>\n",
       "      <td>0</td>\n",
       "    </tr>\n",
       "    <tr>\n",
       "      <th>1</th>\n",
       "      <td>31</td>\n",
       "      <td>Yes</td>\n",
       "      <td>Travel_Frequently</td>\n",
       "      <td>Research &amp; Development</td>\n",
       "      <td>10</td>\n",
       "      <td>1</td>\n",
       "      <td>Life Sciences</td>\n",
       "      <td>1</td>\n",
       "      <td>2</td>\n",
       "      <td>Female</td>\n",
       "      <td>...</td>\n",
       "      <td>0.0</td>\n",
       "      <td>Y</td>\n",
       "      <td>23</td>\n",
       "      <td>8</td>\n",
       "      <td>1</td>\n",
       "      <td>6.0</td>\n",
       "      <td>3</td>\n",
       "      <td>5</td>\n",
       "      <td>1</td>\n",
       "      <td>4</td>\n",
       "    </tr>\n",
       "    <tr>\n",
       "      <th>3</th>\n",
       "      <td>38</td>\n",
       "      <td>No</td>\n",
       "      <td>Non-Travel</td>\n",
       "      <td>Research &amp; Development</td>\n",
       "      <td>2</td>\n",
       "      <td>5</td>\n",
       "      <td>Life Sciences</td>\n",
       "      <td>1</td>\n",
       "      <td>4</td>\n",
       "      <td>Male</td>\n",
       "      <td>...</td>\n",
       "      <td>3.0</td>\n",
       "      <td>Y</td>\n",
       "      <td>11</td>\n",
       "      <td>8</td>\n",
       "      <td>3</td>\n",
       "      <td>13.0</td>\n",
       "      <td>5</td>\n",
       "      <td>8</td>\n",
       "      <td>7</td>\n",
       "      <td>5</td>\n",
       "    </tr>\n",
       "    <tr>\n",
       "      <th>4</th>\n",
       "      <td>32</td>\n",
       "      <td>No</td>\n",
       "      <td>Travel_Rarely</td>\n",
       "      <td>Research &amp; Development</td>\n",
       "      <td>10</td>\n",
       "      <td>1</td>\n",
       "      <td>Medical</td>\n",
       "      <td>1</td>\n",
       "      <td>5</td>\n",
       "      <td>Male</td>\n",
       "      <td>...</td>\n",
       "      <td>4.0</td>\n",
       "      <td>Y</td>\n",
       "      <td>12</td>\n",
       "      <td>8</td>\n",
       "      <td>2</td>\n",
       "      <td>9.0</td>\n",
       "      <td>2</td>\n",
       "      <td>6</td>\n",
       "      <td>0</td>\n",
       "      <td>4</td>\n",
       "    </tr>\n",
       "    <tr>\n",
       "      <th>6</th>\n",
       "      <td>28</td>\n",
       "      <td>Yes</td>\n",
       "      <td>Travel_Rarely</td>\n",
       "      <td>Research &amp; Development</td>\n",
       "      <td>11</td>\n",
       "      <td>2</td>\n",
       "      <td>Medical</td>\n",
       "      <td>1</td>\n",
       "      <td>7</td>\n",
       "      <td>Male</td>\n",
       "      <td>...</td>\n",
       "      <td>2.0</td>\n",
       "      <td>Y</td>\n",
       "      <td>20</td>\n",
       "      <td>8</td>\n",
       "      <td>1</td>\n",
       "      <td>5.0</td>\n",
       "      <td>2</td>\n",
       "      <td>0</td>\n",
       "      <td>0</td>\n",
       "      <td>0</td>\n",
       "    </tr>\n",
       "    <tr>\n",
       "      <th>...</th>\n",
       "      <td>...</td>\n",
       "      <td>...</td>\n",
       "      <td>...</td>\n",
       "      <td>...</td>\n",
       "      <td>...</td>\n",
       "      <td>...</td>\n",
       "      <td>...</td>\n",
       "      <td>...</td>\n",
       "      <td>...</td>\n",
       "      <td>...</td>\n",
       "      <td>...</td>\n",
       "      <td>...</td>\n",
       "      <td>...</td>\n",
       "      <td>...</td>\n",
       "      <td>...</td>\n",
       "      <td>...</td>\n",
       "      <td>...</td>\n",
       "      <td>...</td>\n",
       "      <td>...</td>\n",
       "      <td>...</td>\n",
       "      <td>...</td>\n",
       "    </tr>\n",
       "    <tr>\n",
       "      <th>4404</th>\n",
       "      <td>29</td>\n",
       "      <td>No</td>\n",
       "      <td>Travel_Rarely</td>\n",
       "      <td>Sales</td>\n",
       "      <td>4</td>\n",
       "      <td>3</td>\n",
       "      <td>Other</td>\n",
       "      <td>1</td>\n",
       "      <td>4405</td>\n",
       "      <td>Female</td>\n",
       "      <td>...</td>\n",
       "      <td>1.0</td>\n",
       "      <td>Y</td>\n",
       "      <td>18</td>\n",
       "      <td>8</td>\n",
       "      <td>0</td>\n",
       "      <td>6.0</td>\n",
       "      <td>2</td>\n",
       "      <td>6</td>\n",
       "      <td>1</td>\n",
       "      <td>5</td>\n",
       "    </tr>\n",
       "    <tr>\n",
       "      <th>4405</th>\n",
       "      <td>42</td>\n",
       "      <td>No</td>\n",
       "      <td>Travel_Rarely</td>\n",
       "      <td>Research &amp; Development</td>\n",
       "      <td>5</td>\n",
       "      <td>4</td>\n",
       "      <td>Medical</td>\n",
       "      <td>1</td>\n",
       "      <td>4406</td>\n",
       "      <td>Female</td>\n",
       "      <td>...</td>\n",
       "      <td>3.0</td>\n",
       "      <td>Y</td>\n",
       "      <td>17</td>\n",
       "      <td>8</td>\n",
       "      <td>1</td>\n",
       "      <td>10.0</td>\n",
       "      <td>5</td>\n",
       "      <td>3</td>\n",
       "      <td>0</td>\n",
       "      <td>2</td>\n",
       "    </tr>\n",
       "    <tr>\n",
       "      <th>4406</th>\n",
       "      <td>29</td>\n",
       "      <td>No</td>\n",
       "      <td>Travel_Rarely</td>\n",
       "      <td>Research &amp; Development</td>\n",
       "      <td>2</td>\n",
       "      <td>4</td>\n",
       "      <td>Medical</td>\n",
       "      <td>1</td>\n",
       "      <td>4407</td>\n",
       "      <td>Male</td>\n",
       "      <td>...</td>\n",
       "      <td>2.0</td>\n",
       "      <td>Y</td>\n",
       "      <td>15</td>\n",
       "      <td>8</td>\n",
       "      <td>0</td>\n",
       "      <td>10.0</td>\n",
       "      <td>2</td>\n",
       "      <td>3</td>\n",
       "      <td>0</td>\n",
       "      <td>2</td>\n",
       "    </tr>\n",
       "    <tr>\n",
       "      <th>4407</th>\n",
       "      <td>25</td>\n",
       "      <td>No</td>\n",
       "      <td>Travel_Rarely</td>\n",
       "      <td>Research &amp; Development</td>\n",
       "      <td>25</td>\n",
       "      <td>2</td>\n",
       "      <td>Life Sciences</td>\n",
       "      <td>1</td>\n",
       "      <td>4408</td>\n",
       "      <td>Male</td>\n",
       "      <td>...</td>\n",
       "      <td>0.0</td>\n",
       "      <td>Y</td>\n",
       "      <td>20</td>\n",
       "      <td>8</td>\n",
       "      <td>0</td>\n",
       "      <td>5.0</td>\n",
       "      <td>4</td>\n",
       "      <td>4</td>\n",
       "      <td>1</td>\n",
       "      <td>2</td>\n",
       "    </tr>\n",
       "    <tr>\n",
       "      <th>4408</th>\n",
       "      <td>42</td>\n",
       "      <td>No</td>\n",
       "      <td>Travel_Rarely</td>\n",
       "      <td>Sales</td>\n",
       "      <td>18</td>\n",
       "      <td>2</td>\n",
       "      <td>Medical</td>\n",
       "      <td>1</td>\n",
       "      <td>4409</td>\n",
       "      <td>Male</td>\n",
       "      <td>...</td>\n",
       "      <td>0.0</td>\n",
       "      <td>Y</td>\n",
       "      <td>14</td>\n",
       "      <td>8</td>\n",
       "      <td>1</td>\n",
       "      <td>10.0</td>\n",
       "      <td>2</td>\n",
       "      <td>9</td>\n",
       "      <td>7</td>\n",
       "      <td>8</td>\n",
       "    </tr>\n",
       "  </tbody>\n",
       "</table>\n",
       "<p>2900 rows × 24 columns</p>\n",
       "</div>"
      ],
      "text/plain": [
       "      Age Attrition     BusinessTravel              Department  \\\n",
       "0      51        No      Travel_Rarely                   Sales   \n",
       "1      31       Yes  Travel_Frequently  Research & Development   \n",
       "3      38        No         Non-Travel  Research & Development   \n",
       "4      32        No      Travel_Rarely  Research & Development   \n",
       "6      28       Yes      Travel_Rarely  Research & Development   \n",
       "...   ...       ...                ...                     ...   \n",
       "4404   29        No      Travel_Rarely                   Sales   \n",
       "4405   42        No      Travel_Rarely  Research & Development   \n",
       "4406   29        No      Travel_Rarely  Research & Development   \n",
       "4407   25        No      Travel_Rarely  Research & Development   \n",
       "4408   42        No      Travel_Rarely                   Sales   \n",
       "\n",
       "      DistanceFromHome  Education EducationField  EmployeeCount  EmployeeID  \\\n",
       "0                    6          2  Life Sciences              1           1   \n",
       "1                   10          1  Life Sciences              1           2   \n",
       "3                    2          5  Life Sciences              1           4   \n",
       "4                   10          1        Medical              1           5   \n",
       "6                   11          2        Medical              1           7   \n",
       "...                ...        ...            ...            ...         ...   \n",
       "4404                 4          3          Other              1        4405   \n",
       "4405                 5          4        Medical              1        4406   \n",
       "4406                 2          4        Medical              1        4407   \n",
       "4407                25          2  Life Sciences              1        4408   \n",
       "4408                18          2        Medical              1        4409   \n",
       "\n",
       "      Gender  ...  NumCompaniesWorked Over18 PercentSalaryHike  StandardHours  \\\n",
       "0     Female  ...                 1.0      Y                11              8   \n",
       "1     Female  ...                 0.0      Y                23              8   \n",
       "3       Male  ...                 3.0      Y                11              8   \n",
       "4       Male  ...                 4.0      Y                12              8   \n",
       "6       Male  ...                 2.0      Y                20              8   \n",
       "...      ...  ...                 ...    ...               ...            ...   \n",
       "4404  Female  ...                 1.0      Y                18              8   \n",
       "4405  Female  ...                 3.0      Y                17              8   \n",
       "4406    Male  ...                 2.0      Y                15              8   \n",
       "4407    Male  ...                 0.0      Y                20              8   \n",
       "4408    Male  ...                 0.0      Y                14              8   \n",
       "\n",
       "      StockOptionLevel TotalWorkingYears  TrainingTimesLastYear  \\\n",
       "0                    0               1.0                      6   \n",
       "1                    1               6.0                      3   \n",
       "3                    3              13.0                      5   \n",
       "4                    2               9.0                      2   \n",
       "6                    1               5.0                      2   \n",
       "...                ...               ...                    ...   \n",
       "4404                 0               6.0                      2   \n",
       "4405                 1              10.0                      5   \n",
       "4406                 0              10.0                      2   \n",
       "4407                 0               5.0                      4   \n",
       "4408                 1              10.0                      2   \n",
       "\n",
       "      YearsAtCompany  YearsSinceLastPromotion  YearsWithCurrManager  \n",
       "0                  1                        0                     0  \n",
       "1                  5                        1                     4  \n",
       "3                  8                        7                     5  \n",
       "4                  6                        0                     4  \n",
       "6                  0                        0                     0  \n",
       "...              ...                      ...                   ...  \n",
       "4404               6                        1                     5  \n",
       "4405               3                        0                     2  \n",
       "4406               3                        0                     2  \n",
       "4407               4                        1                     2  \n",
       "4408               9                        7                     8  \n",
       "\n",
       "[2900 rows x 24 columns]"
      ]
     },
     "execution_count": 81,
     "metadata": {},
     "output_type": "execute_result"
    }
   ],
   "source": [
    "dataset.dropna()"
   ]
  },
  {
   "cell_type": "code",
   "execution_count": 82,
   "metadata": {},
   "outputs": [
    {
     "name": "stdout",
     "output_type": "stream",
     "text": [
      "Age\n"
     ]
    },
    {
     "data": {
      "image/png": "[encoded data removed]",
      "text/plain": [
       "<Figure size 432x288 with 1 Axes>"
      ]
     },
     "metadata": {
      "needs_background": "light"
     },
     "output_type": "display_data"
    },
    {
     "name": "stdout",
     "output_type": "stream",
     "text": [
      "DistanceFromHome\n"
     ]
    },
    {
     "data": {
      "image/png": "[encoded data removed]",
      "text/plain": [
       "<Figure size 432x288 with 1 Axes>"
      ]
     },
     "metadata": {
      "needs_background": "light"
     },
     "output_type": "display_data"
    },
    {
     "name": "stdout",
     "output_type": "stream",
     "text": [
      "Education\n"
     ]
    },
    {
     "data": {
      "image/png": "[encoded data removed]",
      "text/plain": [
       "<Figure size 432x288 with 1 Axes>"
      ]
     },
     "metadata": {
      "needs_background": "light"
     },
     "output_type": "display_data"
    },
    {
     "name": "stdout",
     "output_type": "stream",
     "text": [
      "EmployeeCount\n"
     ]
    },
    {
     "data": {
      "image/png": "[encoded data removed]",
      "text/plain": [
       "<Figure size 432x288 with 1 Axes>"
      ]
     },
     "metadata": {
      "needs_background": "light"
     },
     "output_type": "display_data"
    },
    {
     "name": "stdout",
     "output_type": "stream",
     "text": [
      "EmployeeID\n"
     ]
    },
    {
     "data": {
      "image/png": "[encoded data removed]",
      "text/plain": [
       "<Figure size 432x288 with 1 Axes>"
      ]
     },
     "metadata": {
      "needs_background": "light"
     },
     "output_type": "display_data"
    },
    {
     "name": "stdout",
     "output_type": "stream",
     "text": [
      "JobLevel\n"
     ]
    },
    {
     "data": {
      "image/png": "[encoded data removed]",
      "text/plain": [
       "<Figure size 432x288 with 1 Axes>"
      ]
     },
     "metadata": {
      "needs_background": "light"
     },
     "output_type": "display_data"
    },
    {
     "name": "stdout",
     "output_type": "stream",
     "text": [
      "MonthlyIncome\n"
     ]
    },
    {
     "data": {
      "image/png": "[encoded data removed]",
      "text/plain": [
       "<Figure size 432x288 with 1 Axes>"
      ]
     },
     "metadata": {
      "needs_background": "light"
     },
     "output_type": "display_data"
    },
    {
     "name": "stdout",
     "output_type": "stream",
     "text": [
      "NumCompaniesWorked\n"
     ]
    },
    {
     "data": {
      "image/png": "[encoded data removed]",
      "text/plain": [
       "<Figure size 432x288 with 1 Axes>"
      ]
     },
     "metadata": {
      "needs_background": "light"
     },
     "output_type": "display_data"
    },
    {
     "name": "stdout",
     "output_type": "stream",
     "text": [
      "PercentSalaryHike\n"
     ]
    },
    {
     "data": {
      "image/png": "[encoded data removed]",
      "text/plain": [
       "<Figure size 432x288 with 1 Axes>"
      ]
     },
     "metadata": {
      "needs_background": "light"
     },
     "output_type": "display_data"
    },
    {
     "name": "stdout",
     "output_type": "stream",
     "text": [
      "StandardHours\n"
     ]
    },
    {
     "data": {
      "image/png": "[encoded data removed]",
      "text/plain": [
       "<Figure size 432x288 with 1 Axes>"
      ]
     },
     "metadata": {
      "needs_background": "light"
     },
     "output_type": "display_data"
    },
    {
     "name": "stdout",
     "output_type": "stream",
     "text": [
      "StockOptionLevel\n"
     ]
    },
    {
     "data": {
      "image/png": "[encoded data removed]",
      "text/plain": [
       "<Figure size 432x288 with 1 Axes>"
      ]
     },
     "metadata": {
      "needs_background": "light"
     },
     "output_type": "display_data"
    },
    {
     "name": "stdout",
     "output_type": "stream",
     "text": [
      "TotalWorkingYears\n"
     ]
    },
    {
     "data": {
      "image/png": "[encoded data removed]",
      "text/plain": [
       "<Figure size 432x288 with 1 Axes>"
      ]
     },
     "metadata": {
      "needs_background": "light"
     },
     "output_type": "display_data"
    },
    {
     "name": "stdout",
     "output_type": "stream",
     "text": [
      "TrainingTimesLastYear\n"
     ]
    },
    {
     "data": {
      "image/png": "[encoded data removed]",
      "text/plain": [
       "<Figure size 432x288 with 1 Axes>"
      ]
     },
     "metadata": {
      "needs_background": "light"
     },
     "output_type": "display_data"
    },
    {
     "name": "stdout",
     "output_type": "stream",
     "text": [
      "YearsAtCompany\n"
     ]
    },
    {
     "data": {
      "image/png": "[encoded data removed]",
      "text/plain": [
       "<Figure size 432x288 with 1 Axes>"
      ]
     },
     "metadata": {
      "needs_background": "light"
     },
     "output_type": "display_data"
    },
    {
     "name": "stdout",
     "output_type": "stream",
     "text": [
      "YearsSinceLastPromotion\n"
     ]
    },
    {
     "data": {
      "image/png": "[encoded data removed]",
      "text/plain": [
       "<Figure size 432x288 with 1 Axes>"
      ]
     },
     "metadata": {
      "needs_background": "light"
     },
     "output_type": "display_data"
    },
    {
     "name": "stdout",
     "output_type": "stream",
     "text": [
      "YearsWithCurrManager\n"
     ]
    },
    {
     "data": {
      "image/png": "[encoded data removed]",
      "text/plain": [
       "<Figure size 432x288 with 1 Axes>"
      ]
     },
     "metadata": {
      "needs_background": "light"
     },
     "output_type": "display_data"
    }
   ],
   "source": [
    "for i in Numerical_columns:\n",
    "    print(i)\n",
    "    plt.boxplot(dataset[i])\n",
    "    plt.show()"
   ]
  },
  {
   "cell_type": "markdown",
   "metadata": {},
   "source": [
    "#### There is no perfect solution for removal of outliers as the numbers of outliers your reduce the number of outliers are\n",
    "#### going to increase as removing outliers from all the factors is not possible since we have removed the first stage \n",
    "#### outliers from the dataset"
   ]
  },
  {
   "cell_type": "markdown",
   "metadata": {},
   "source": [
    "### Dataset Is Now Outlier Free"
   ]
  },
  {
   "cell_type": "code",
   "execution_count": 83,
   "metadata": {},
   "outputs": [
    {
     "data": {
      "text/plain": [
       "Index(['Age', 'Attrition', 'BusinessTravel', 'Department', 'DistanceFromHome',\n",
       "       'Education', 'EducationField', 'EmployeeCount', 'EmployeeID', 'Gender',\n",
       "       'JobLevel', 'JobRole', 'MaritalStatus', 'MonthlyIncome',\n",
       "       'NumCompaniesWorked', 'Over18', 'PercentSalaryHike', 'StandardHours',\n",
       "       'StockOptionLevel', 'TotalWorkingYears', 'TrainingTimesLastYear',\n",
       "       'YearsAtCompany', 'YearsSinceLastPromotion', 'YearsWithCurrManager'],\n",
       "      dtype='object')"
      ]
     },
     "execution_count": 83,
     "metadata": {},
     "output_type": "execute_result"
    }
   ],
   "source": [
    "dataset.columns  ### Display the available columns in the dataset"
   ]
  },
  {
   "cell_type": "code",
   "execution_count": 87,
   "metadata": {},
   "outputs": [],
   "source": [
    "dataset[\"attrition\"]= pd.factorize(dataset[\"Attrition\"])[0]"
   ]
  },
  {
   "cell_type": "code",
   "execution_count": 88,
   "metadata": {},
   "outputs": [
    {
     "data": {
      "text/html": [
       "<div>\n",
       "<style scoped>\n",
       "    .dataframe tbody tr th:only-of-type {\n",
       "        vertical-align: middle;\n",
       "    }\n",
       "\n",
       "    .dataframe tbody tr th {\n",
       "        vertical-align: top;\n",
       "    }\n",
       "\n",
       "    .dataframe thead th {\n",
       "        text-align: right;\n",
       "    }\n",
       "</style>\n",
       "<table border=\"1\" class=\"dataframe\">\n",
       "  <thead>\n",
       "    <tr style=\"text-align: right;\">\n",
       "      <th></th>\n",
       "      <th>Age</th>\n",
       "      <th>Attrition</th>\n",
       "      <th>BusinessTravel</th>\n",
       "      <th>Department</th>\n",
       "      <th>DistanceFromHome</th>\n",
       "      <th>Education</th>\n",
       "      <th>EducationField</th>\n",
       "      <th>EmployeeCount</th>\n",
       "      <th>EmployeeID</th>\n",
       "      <th>Gender</th>\n",
       "      <th>...</th>\n",
       "      <th>Over18</th>\n",
       "      <th>PercentSalaryHike</th>\n",
       "      <th>StandardHours</th>\n",
       "      <th>StockOptionLevel</th>\n",
       "      <th>TotalWorkingYears</th>\n",
       "      <th>TrainingTimesLastYear</th>\n",
       "      <th>YearsAtCompany</th>\n",
       "      <th>YearsSinceLastPromotion</th>\n",
       "      <th>YearsWithCurrManager</th>\n",
       "      <th>attrition</th>\n",
       "    </tr>\n",
       "  </thead>\n",
       "  <tbody>\n",
       "    <tr>\n",
       "      <th>0</th>\n",
       "      <td>51</td>\n",
       "      <td>No</td>\n",
       "      <td>Travel_Rarely</td>\n",
       "      <td>Sales</td>\n",
       "      <td>6</td>\n",
       "      <td>2</td>\n",
       "      <td>Life Sciences</td>\n",
       "      <td>1</td>\n",
       "      <td>1</td>\n",
       "      <td>Female</td>\n",
       "      <td>...</td>\n",
       "      <td>Y</td>\n",
       "      <td>11</td>\n",
       "      <td>8</td>\n",
       "      <td>0</td>\n",
       "      <td>1.0</td>\n",
       "      <td>6</td>\n",
       "      <td>1</td>\n",
       "      <td>0</td>\n",
       "      <td>0</td>\n",
       "      <td>0</td>\n",
       "    </tr>\n",
       "    <tr>\n",
       "      <th>1</th>\n",
       "      <td>31</td>\n",
       "      <td>Yes</td>\n",
       "      <td>Travel_Frequently</td>\n",
       "      <td>Research &amp; Development</td>\n",
       "      <td>10</td>\n",
       "      <td>1</td>\n",
       "      <td>Life Sciences</td>\n",
       "      <td>1</td>\n",
       "      <td>2</td>\n",
       "      <td>Female</td>\n",
       "      <td>...</td>\n",
       "      <td>Y</td>\n",
       "      <td>23</td>\n",
       "      <td>8</td>\n",
       "      <td>1</td>\n",
       "      <td>6.0</td>\n",
       "      <td>3</td>\n",
       "      <td>5</td>\n",
       "      <td>1</td>\n",
       "      <td>4</td>\n",
       "      <td>1</td>\n",
       "    </tr>\n",
       "    <tr>\n",
       "      <th>3</th>\n",
       "      <td>38</td>\n",
       "      <td>No</td>\n",
       "      <td>Non-Travel</td>\n",
       "      <td>Research &amp; Development</td>\n",
       "      <td>2</td>\n",
       "      <td>5</td>\n",
       "      <td>Life Sciences</td>\n",
       "      <td>1</td>\n",
       "      <td>4</td>\n",
       "      <td>Male</td>\n",
       "      <td>...</td>\n",
       "      <td>Y</td>\n",
       "      <td>11</td>\n",
       "      <td>8</td>\n",
       "      <td>3</td>\n",
       "      <td>13.0</td>\n",
       "      <td>5</td>\n",
       "      <td>8</td>\n",
       "      <td>7</td>\n",
       "      <td>5</td>\n",
       "      <td>0</td>\n",
       "    </tr>\n",
       "    <tr>\n",
       "      <th>4</th>\n",
       "      <td>32</td>\n",
       "      <td>No</td>\n",
       "      <td>Travel_Rarely</td>\n",
       "      <td>Research &amp; Development</td>\n",
       "      <td>10</td>\n",
       "      <td>1</td>\n",
       "      <td>Medical</td>\n",
       "      <td>1</td>\n",
       "      <td>5</td>\n",
       "      <td>Male</td>\n",
       "      <td>...</td>\n",
       "      <td>Y</td>\n",
       "      <td>12</td>\n",
       "      <td>8</td>\n",
       "      <td>2</td>\n",
       "      <td>9.0</td>\n",
       "      <td>2</td>\n",
       "      <td>6</td>\n",
       "      <td>0</td>\n",
       "      <td>4</td>\n",
       "      <td>0</td>\n",
       "    </tr>\n",
       "    <tr>\n",
       "      <th>6</th>\n",
       "      <td>28</td>\n",
       "      <td>Yes</td>\n",
       "      <td>Travel_Rarely</td>\n",
       "      <td>Research &amp; Development</td>\n",
       "      <td>11</td>\n",
       "      <td>2</td>\n",
       "      <td>Medical</td>\n",
       "      <td>1</td>\n",
       "      <td>7</td>\n",
       "      <td>Male</td>\n",
       "      <td>...</td>\n",
       "      <td>Y</td>\n",
       "      <td>20</td>\n",
       "      <td>8</td>\n",
       "      <td>1</td>\n",
       "      <td>5.0</td>\n",
       "      <td>2</td>\n",
       "      <td>0</td>\n",
       "      <td>0</td>\n",
       "      <td>0</td>\n",
       "      <td>1</td>\n",
       "    </tr>\n",
       "    <tr>\n",
       "      <th>...</th>\n",
       "      <td>...</td>\n",
       "      <td>...</td>\n",
       "      <td>...</td>\n",
       "      <td>...</td>\n",
       "      <td>...</td>\n",
       "      <td>...</td>\n",
       "      <td>...</td>\n",
       "      <td>...</td>\n",
       "      <td>...</td>\n",
       "      <td>...</td>\n",
       "      <td>...</td>\n",
       "      <td>...</td>\n",
       "      <td>...</td>\n",
       "      <td>...</td>\n",
       "      <td>...</td>\n",
       "      <td>...</td>\n",
       "      <td>...</td>\n",
       "      <td>...</td>\n",
       "      <td>...</td>\n",
       "      <td>...</td>\n",
       "      <td>...</td>\n",
       "    </tr>\n",
       "    <tr>\n",
       "      <th>4404</th>\n",
       "      <td>29</td>\n",
       "      <td>No</td>\n",
       "      <td>Travel_Rarely</td>\n",
       "      <td>Sales</td>\n",
       "      <td>4</td>\n",
       "      <td>3</td>\n",
       "      <td>Other</td>\n",
       "      <td>1</td>\n",
       "      <td>4405</td>\n",
       "      <td>Female</td>\n",
       "      <td>...</td>\n",
       "      <td>Y</td>\n",
       "      <td>18</td>\n",
       "      <td>8</td>\n",
       "      <td>0</td>\n",
       "      <td>6.0</td>\n",
       "      <td>2</td>\n",
       "      <td>6</td>\n",
       "      <td>1</td>\n",
       "      <td>5</td>\n",
       "      <td>0</td>\n",
       "    </tr>\n",
       "    <tr>\n",
       "      <th>4405</th>\n",
       "      <td>42</td>\n",
       "      <td>No</td>\n",
       "      <td>Travel_Rarely</td>\n",
       "      <td>Research &amp; Development</td>\n",
       "      <td>5</td>\n",
       "      <td>4</td>\n",
       "      <td>Medical</td>\n",
       "      <td>1</td>\n",
       "      <td>4406</td>\n",
       "      <td>Female</td>\n",
       "      <td>...</td>\n",
       "      <td>Y</td>\n",
       "      <td>17</td>\n",
       "      <td>8</td>\n",
       "      <td>1</td>\n",
       "      <td>10.0</td>\n",
       "      <td>5</td>\n",
       "      <td>3</td>\n",
       "      <td>0</td>\n",
       "      <td>2</td>\n",
       "      <td>0</td>\n",
       "    </tr>\n",
       "    <tr>\n",
       "      <th>4406</th>\n",
       "      <td>29</td>\n",
       "      <td>No</td>\n",
       "      <td>Travel_Rarely</td>\n",
       "      <td>Research &amp; Development</td>\n",
       "      <td>2</td>\n",
       "      <td>4</td>\n",
       "      <td>Medical</td>\n",
       "      <td>1</td>\n",
       "      <td>4407</td>\n",
       "      <td>Male</td>\n",
       "      <td>...</td>\n",
       "      <td>Y</td>\n",
       "      <td>15</td>\n",
       "      <td>8</td>\n",
       "      <td>0</td>\n",
       "      <td>10.0</td>\n",
       "      <td>2</td>\n",
       "      <td>3</td>\n",
       "      <td>0</td>\n",
       "      <td>2</td>\n",
       "      <td>0</td>\n",
       "    </tr>\n",
       "    <tr>\n",
       "      <th>4407</th>\n",
       "      <td>25</td>\n",
       "      <td>No</td>\n",
       "      <td>Travel_Rarely</td>\n",
       "      <td>Research &amp; Development</td>\n",
       "      <td>25</td>\n",
       "      <td>2</td>\n",
       "      <td>Life Sciences</td>\n",
       "      <td>1</td>\n",
       "      <td>4408</td>\n",
       "      <td>Male</td>\n",
       "      <td>...</td>\n",
       "      <td>Y</td>\n",
       "      <td>20</td>\n",
       "      <td>8</td>\n",
       "      <td>0</td>\n",
       "      <td>5.0</td>\n",
       "      <td>4</td>\n",
       "      <td>4</td>\n",
       "      <td>1</td>\n",
       "      <td>2</td>\n",
       "      <td>0</td>\n",
       "    </tr>\n",
       "    <tr>\n",
       "      <th>4408</th>\n",
       "      <td>42</td>\n",
       "      <td>No</td>\n",
       "      <td>Travel_Rarely</td>\n",
       "      <td>Sales</td>\n",
       "      <td>18</td>\n",
       "      <td>2</td>\n",
       "      <td>Medical</td>\n",
       "      <td>1</td>\n",
       "      <td>4409</td>\n",
       "      <td>Male</td>\n",
       "      <td>...</td>\n",
       "      <td>Y</td>\n",
       "      <td>14</td>\n",
       "      <td>8</td>\n",
       "      <td>1</td>\n",
       "      <td>10.0</td>\n",
       "      <td>2</td>\n",
       "      <td>9</td>\n",
       "      <td>7</td>\n",
       "      <td>8</td>\n",
       "      <td>0</td>\n",
       "    </tr>\n",
       "  </tbody>\n",
       "</table>\n",
       "<p>2900 rows × 25 columns</p>\n",
       "</div>"
      ],
      "text/plain": [
       "      Age Attrition     BusinessTravel              Department  \\\n",
       "0      51        No      Travel_Rarely                   Sales   \n",
       "1      31       Yes  Travel_Frequently  Research & Development   \n",
       "3      38        No         Non-Travel  Research & Development   \n",
       "4      32        No      Travel_Rarely  Research & Development   \n",
       "6      28       Yes      Travel_Rarely  Research & Development   \n",
       "...   ...       ...                ...                     ...   \n",
       "4404   29        No      Travel_Rarely                   Sales   \n",
       "4405   42        No      Travel_Rarely  Research & Development   \n",
       "4406   29        No      Travel_Rarely  Research & Development   \n",
       "4407   25        No      Travel_Rarely  Research & Development   \n",
       "4408   42        No      Travel_Rarely                   Sales   \n",
       "\n",
       "      DistanceFromHome  Education EducationField  EmployeeCount  EmployeeID  \\\n",
       "0                    6          2  Life Sciences              1           1   \n",
       "1                   10          1  Life Sciences              1           2   \n",
       "3                    2          5  Life Sciences              1           4   \n",
       "4                   10          1        Medical              1           5   \n",
       "6                   11          2        Medical              1           7   \n",
       "...                ...        ...            ...            ...         ...   \n",
       "4404                 4          3          Other              1        4405   \n",
       "4405                 5          4        Medical              1        4406   \n",
       "4406                 2          4        Medical              1        4407   \n",
       "4407                25          2  Life Sciences              1        4408   \n",
       "4408                18          2        Medical              1        4409   \n",
       "\n",
       "      Gender  ...  Over18 PercentSalaryHike StandardHours  StockOptionLevel  \\\n",
       "0     Female  ...       Y                11             8                 0   \n",
       "1     Female  ...       Y                23             8                 1   \n",
       "3       Male  ...       Y                11             8                 3   \n",
       "4       Male  ...       Y                12             8                 2   \n",
       "6       Male  ...       Y                20             8                 1   \n",
       "...      ...  ...     ...               ...           ...               ...   \n",
       "4404  Female  ...       Y                18             8                 0   \n",
       "4405  Female  ...       Y                17             8                 1   \n",
       "4406    Male  ...       Y                15             8                 0   \n",
       "4407    Male  ...       Y                20             8                 0   \n",
       "4408    Male  ...       Y                14             8                 1   \n",
       "\n",
       "      TotalWorkingYears TrainingTimesLastYear  YearsAtCompany  \\\n",
       "0                   1.0                     6               1   \n",
       "1                   6.0                     3               5   \n",
       "3                  13.0                     5               8   \n",
       "4                   9.0                     2               6   \n",
       "6                   5.0                     2               0   \n",
       "...                 ...                   ...             ...   \n",
       "4404                6.0                     2               6   \n",
       "4405               10.0                     5               3   \n",
       "4406               10.0                     2               3   \n",
       "4407                5.0                     4               4   \n",
       "4408               10.0                     2               9   \n",
       "\n",
       "      YearsSinceLastPromotion  YearsWithCurrManager  attrition  \n",
       "0                           0                     0          0  \n",
       "1                           1                     4          1  \n",
       "3                           7                     5          0  \n",
       "4                           0                     4          0  \n",
       "6                           0                     0          1  \n",
       "...                       ...                   ...        ...  \n",
       "4404                        1                     5          0  \n",
       "4405                        0                     2          0  \n",
       "4406                        0                     2          0  \n",
       "4407                        1                     2          0  \n",
       "4408                        7                     8          0  \n",
       "\n",
       "[2900 rows x 25 columns]"
      ]
     },
     "execution_count": 88,
     "metadata": {},
     "output_type": "execute_result"
    }
   ],
   "source": [
    "dataset"
   ]
  },
  {
   "cell_type": "markdown",
   "metadata": {},
   "source": [
    "### pd.factorize is used to convert categorial variable into numerical variable"
   ]
  },
  {
   "cell_type": "markdown",
   "metadata": {},
   "source": [
    "### Now the data is clean its time to analyise the data "
   ]
  },
  {
   "cell_type": "markdown",
   "metadata": {},
   "source": [
    "#### Splitting up the data into stay and left where stay means who stayed in the company and left means who left the copany"
   ]
  },
  {
   "cell_type": "code",
   "execution_count": 113,
   "metadata": {},
   "outputs": [],
   "source": [
    "left=dataset[dataset[\"Attrition\"] == \"Yes\"]\n",
    "stay=dataset[dataset[\"Attrition\"] == \"No\"]"
   ]
  },
  {
   "cell_type": "code",
   "execution_count": 118,
   "metadata": {},
   "outputs": [
    {
     "name": "stdout",
     "output_type": "stream",
     "text": [
      "The Numerical Value is Age \n",
      "\n",
      "The mean of the Age is 35.045172413793104\n",
      "The mean of the Age  Who stayed is 35.7120397186595\n",
      "The mean of the Age  Who left is 31.70807453416149 \n",
      "\n",
      "The value Counts of people staying is as follow 35    165\n",
      "34    159\n",
      "38    123\n",
      "32    117\n",
      "36    117\n",
      "29    117\n",
      "30    111\n",
      "31    111\n",
      "27    108\n",
      "37    102\n",
      "33    102\n",
      "28     96\n",
      "45     81\n",
      "26     72\n",
      "42     66\n",
      "40     61\n",
      "43     57\n",
      "41     55\n",
      "25     51\n",
      "24     48\n",
      "39     48\n",
      "44     42\n",
      "49     36\n",
      "47     33\n",
      "51     30\n",
      "48     30\n",
      "46     30\n",
      "23     24\n",
      "53     24\n",
      "50     24\n",
      "22     24\n",
      "54     21\n",
      "55     21\n",
      "21     18\n",
      "52     15\n",
      "58     15\n",
      "20     15\n",
      "56     12\n",
      "59      9\n",
      "18      9\n",
      "57      6\n",
      "19      6\n",
      "60      6\n",
      "Name: Age, dtype: int64\n",
      "The value Counts of people leaving is as follow 31    42\n",
      "29    42\n",
      "26    27\n",
      "28    27\n",
      "35    24\n",
      "33    24\n",
      "24    18\n",
      "34    18\n",
      "20    18\n",
      "22    15\n",
      "25    15\n",
      "21    15\n",
      "44    15\n",
      "40    15\n",
      "30    15\n",
      "19    15\n",
      "23    12\n",
      "32    12\n",
      "18    12\n",
      "39    12\n",
      "46     9\n",
      "37     9\n",
      "41     9\n",
      "27     9\n",
      "36     9\n",
      "50     9\n",
      "49     6\n",
      "55     6\n",
      "52     3\n",
      "51     3\n",
      "56     3\n",
      "48     3\n",
      "47     3\n",
      "45     3\n",
      "38     3\n",
      "58     3\n",
      "Name: Age, dtype: int64\n",
      " The difference in the value of the stay and left numerical factors are 4.003965184498007\n",
      "this factor Age is noticiable\n",
      "The Numerical Value is DistanceFromHome \n",
      "\n",
      "The mean of the DistanceFromHome is 9.214827586206896\n",
      "The mean of the DistanceFromHome  Who stayed is 9.236657012825818\n",
      "The mean of the DistanceFromHome  Who left is 9.105590062111801 \n",
      "\n",
      "The value Counts of people staying is as follow 2     349\n",
      "1     333\n",
      "9     157\n",
      "10    144\n",
      "8     141\n",
      "7     138\n",
      "3     132\n",
      "6     108\n",
      "5     105\n",
      "4      90\n",
      "20     51\n",
      "24     51\n",
      "29     48\n",
      "13     48\n",
      "14     48\n",
      "16     45\n",
      "18     45\n",
      "26     42\n",
      "28     39\n",
      "19     36\n",
      "22     33\n",
      "23     33\n",
      "15     33\n",
      "17     33\n",
      "21     33\n",
      "11     30\n",
      "25     30\n",
      "12     24\n",
      "27     18\n",
      "Name: DistanceFromHome, dtype: int64\n",
      "The value Counts of people leaving is as follow 2     81\n",
      "1     66\n",
      "10    39\n",
      "4     30\n",
      "8     30\n",
      "7     27\n",
      "15    21\n",
      "3     18\n",
      "6     18\n",
      "5     15\n",
      "9     15\n",
      "28    12\n",
      "29    12\n",
      "16    12\n",
      "12     9\n",
      "11     9\n",
      "19     9\n",
      "22     9\n",
      "23     9\n",
      "27     9\n",
      "18     6\n",
      "20     6\n",
      "24     6\n",
      "17     3\n",
      "13     3\n",
      "21     3\n",
      "25     3\n",
      "14     3\n",
      "Name: DistanceFromHome, dtype: int64\n",
      " The difference in the value of the stay and left numerical factors are 0.13106695071401653\n",
      "The Numerical Value is Education \n",
      "\n",
      "The mean of the Education is 2.9251724137931037\n",
      "The mean of the Education  Who stayed is 2.9449731071576335\n",
      "The mean of the Education  Who left is 2.8260869565217392 \n",
      "\n",
      "The value Counts of people staying is as follow 3    973\n",
      "4    663\n",
      "2    442\n",
      "1    258\n",
      "5     81\n",
      "Name: Education, dtype: int64\n",
      "The value Counts of people leaving is as follow 3    168\n",
      "2    126\n",
      "4    120\n",
      "1     54\n",
      "5     15\n",
      "Name: Education, dtype: int64\n",
      " The difference in the value of the stay and left numerical factors are 0.11888615063589425\n",
      "The Numerical Value is EmployeeCount \n",
      "\n",
      "The mean of the EmployeeCount is 1.0\n",
      "The mean of the EmployeeCount  Who stayed is 1.0\n",
      "The mean of the EmployeeCount  Who left is 1.0 \n",
      "\n",
      "The value Counts of people staying is as follow 1    2417\n",
      "Name: EmployeeCount, dtype: int64\n",
      "The value Counts of people leaving is as follow 1    483\n",
      "Name: EmployeeCount, dtype: int64\n",
      " The difference in the value of the stay and left numerical factors are 0.0\n",
      "The Numerical Value is EmployeeID \n",
      "\n",
      "The mean of the EmployeeID is 2211.189655172414\n",
      "The mean of the EmployeeID  Who stayed is 2217.184112536202\n",
      "The mean of the EmployeeID  Who left is 2181.192546583851 \n",
      "\n",
      "The value Counts of people staying is as follow 2047    1\n",
      "1346    1\n",
      "3391    1\n",
      "1342    1\n",
      "1338    1\n",
      "       ..\n",
      "629     1\n",
      "2676    1\n",
      "2672    1\n",
      "623     1\n",
      "4098    1\n",
      "Name: EmployeeID, Length: 2417, dtype: int64\n",
      "The value Counts of people leaving is as follow 1022    1\n",
      "256     1\n",
      "1349    1\n",
      "3178    1\n",
      "328     1\n",
      "       ..\n",
      "1717    1\n",
      "3766    1\n",
      "695     1\n",
      "696     1\n",
      "1024    1\n",
      "Name: EmployeeID, Length: 483, dtype: int64\n",
      " The difference in the value of the stay and left numerical factors are 35.991565952351266\n",
      "this factor EmployeeID is noticiable\n",
      "The Numerical Value is JobLevel \n",
      "\n",
      "The mean of the JobLevel is 2.1048275862068966\n",
      "The mean of the JobLevel  Who stayed is 2.104675217211419\n",
      "The mean of the JobLevel  Who left is 2.1055900621118013 \n",
      "\n",
      "The value Counts of people staying is as follow 1    870\n",
      "2    856\n",
      "3    394\n",
      "4    162\n",
      "5    135\n",
      "Name: JobLevel, dtype: int64\n",
      "The value Counts of people leaving is as follow 2    186\n",
      "1    168\n",
      "3     66\n",
      "4     36\n",
      "5     27\n",
      "Name: JobLevel, dtype: int64\n",
      " The difference in the value of the stay and left numerical factors are 0.0009148449003824055\n",
      "The Numerical Value is MonthlyIncome \n",
      "\n",
      "The mean of the MonthlyIncome is 54969.01379310345\n",
      "The mean of the MonthlyIncome  Who stayed is 54986.45428216798\n",
      "The mean of the MonthlyIncome  Who left is 54881.739130434784 \n",
      "\n",
      "The value Counts of people staying is as follow 34520     9\n",
      "23800     9\n",
      "20330     6\n",
      "34070     6\n",
      "47790     6\n",
      "         ..\n",
      "23110     3\n",
      "35390     3\n",
      "143360    3\n",
      "22380     1\n",
      "107980    1\n",
      "Name: MonthlyIncome, Length: 758, dtype: int64\n",
      "The value Counts of people leaving is as follow 28860     6\n",
      "55620     6\n",
      "27430     6\n",
      "49600     3\n",
      "43190     3\n",
      "         ..\n",
      "34640     3\n",
      "134990    3\n",
      "25930     3\n",
      "15690     3\n",
      "137700    3\n",
      "Name: MonthlyIncome, Length: 158, dtype: int64\n",
      " The difference in the value of the stay and left numerical factors are 104.71515173319494\n",
      "this factor MonthlyIncome is noticiable\n",
      "The Numerical Value is NumCompaniesWorked \n",
      "\n",
      "The mean of the NumCompaniesWorked is 1.7751076261004088\n",
      "The mean of the NumCompaniesWorked  Who stayed is 1.7815609409814164\n",
      "The mean of the NumCompaniesWorked  Who left is 1.7428143298946228 \n",
      "\n",
      "The value Counts of people staying is as follow 1.00000    971\n",
      "0.00000    407\n",
      "3.00000    312\n",
      "4.00000    306\n",
      "2.00000    300\n",
      "5.00000    108\n",
      "2.69483     13\n",
      "Name: NumCompaniesWorked, dtype: int64\n",
      "The value Counts of people leaving is as follow 1.00000    260\n",
      "0.00000     57\n",
      "4.00000     44\n",
      "5.00000     40\n",
      "3.00000     39\n",
      "2.00000     39\n",
      "2.69483      4\n",
      "Name: NumCompaniesWorked, dtype: int64\n",
      " The difference in the value of the stay and left numerical factors are 0.03874661108679356\n",
      "The Numerical Value is PercentSalaryHike \n",
      "\n",
      "The mean of the PercentSalaryHike is 15.16793103448276\n",
      "The mean of the PercentSalaryHike  Who stayed is 15.094745552337608\n",
      "The mean of the PercentSalaryHike  Who left is 15.53416149068323 \n",
      "\n",
      "The value Counts of people staying is as follow 11    372\n",
      "13    357\n",
      "12    330\n",
      "14    323\n",
      "15    156\n",
      "18    147\n",
      "16    135\n",
      "19    126\n",
      "17    123\n",
      "22     93\n",
      "20     81\n",
      "21     63\n",
      "23     45\n",
      "24     36\n",
      "25     30\n",
      "Name: PercentSalaryHike, dtype: int64\n",
      "The value Counts of people leaving is as follow 13    81\n",
      "14    66\n",
      "12    57\n",
      "11    51\n",
      "15    36\n",
      "18    33\n",
      "17    30\n",
      "21    24\n",
      "20    24\n",
      "19    24\n",
      "22    21\n",
      "16    15\n",
      "23    12\n",
      "24     6\n",
      "25     3\n",
      "Name: PercentSalaryHike, dtype: int64\n",
      " The difference in the value of the stay and left numerical factors are 0.439415938345622\n",
      "The Numerical Value is StandardHours \n",
      "\n",
      "The mean of the StandardHours is 8.0\n",
      "The mean of the StandardHours  Who stayed is 8.0\n",
      "The mean of the StandardHours  Who left is 8.0 \n",
      "\n",
      "The value Counts of people staying is as follow 8    2417\n",
      "Name: StandardHours, dtype: int64\n",
      "The value Counts of people leaving is as follow 8    483\n",
      "Name: StandardHours, dtype: int64\n",
      " The difference in the value of the stay and left numerical factors are 0.0\n",
      "The Numerical Value is StockOptionLevel \n",
      "\n",
      "The mean of the StockOptionLevel is 0.7962068965517242\n",
      "The mean of the StockOptionLevel  Who stayed is 0.7989242863053372\n",
      "The mean of the StockOptionLevel  Who left is 0.782608695652174 \n",
      "\n",
      "The value Counts of people staying is as follow 0    1042\n",
      "1     981\n",
      "2     232\n",
      "3     162\n",
      "Name: StockOptionLevel, dtype: int64\n",
      "The value Counts of people leaving is as follow 0    216\n",
      "1    186\n",
      "2     51\n",
      "3     30\n",
      "Name: StockOptionLevel, dtype: int64\n",
      " The difference in the value of the stay and left numerical factors are 0.016315590653163237\n",
      "The Numerical Value is TotalWorkingYears \n",
      "\n",
      "The mean of the TotalWorkingYears is 8.77831715362496\n",
      "The mean of the TotalWorkingYears  Who stayed is 9.281985880329414\n",
      "The mean of the TotalWorkingYears  Who left is 6.257887935313026 \n",
      "\n",
      "The value Counts of people staying is as follow 10.000000    370\n",
      "6.000000     249\n",
      "9.000000     210\n",
      "8.000000     189\n",
      "5.000000     183\n",
      "7.000000     138\n",
      "4.000000     123\n",
      "1.000000     108\n",
      "12.000000     96\n",
      "3.000000      87\n",
      "13.000000     75\n",
      "16.000000     69\n",
      "11.000000     68\n",
      "14.000000     66\n",
      "2.000000      63\n",
      "15.000000     60\n",
      "17.000000     42\n",
      "18.000000     30\n",
      "19.000000     30\n",
      "21.000000     27\n",
      "20.000000     27\n",
      "26.000000     21\n",
      "23.000000     18\n",
      "0.000000      15\n",
      "24.000000     15\n",
      "27.000000     15\n",
      "22.000000     12\n",
      "25.000000      9\n",
      "11.279936      2\n",
      "Name: TotalWorkingYears, dtype: int64\n",
      "The value Counts of people leaving is as follow 1.000000     116\n",
      "10.000000     45\n",
      "6.000000      42\n",
      "5.000000      39\n",
      "8.000000      32\n",
      "7.000000      30\n",
      "2.000000      27\n",
      "4.000000      27\n",
      "9.000000      21\n",
      "0.000000      15\n",
      "11.000000     15\n",
      "12.000000     12\n",
      "3.000000      12\n",
      "19.000000      9\n",
      "18.000000      6\n",
      "13.000000      6\n",
      "16.000000      6\n",
      "15.000000      6\n",
      "14.000000      6\n",
      "24.000000      3\n",
      "22.000000      3\n",
      "20.000000      3\n",
      "11.279936      2\n",
      "Name: TotalWorkingYears, dtype: int64\n",
      " The difference in the value of the stay and left numerical factors are 3.024097945016387\n",
      "The Numerical Value is TrainingTimesLastYear \n",
      "\n",
      "The mean of the TrainingTimesLastYear is 2.810344827586207\n",
      "The mean of the TrainingTimesLastYear  Who stayed is 2.8345055854364913\n",
      "The mean of the TrainingTimesLastYear  Who left is 2.68944099378882 \n",
      "\n",
      "The value Counts of people staying is as follow 2    894\n",
      "3    778\n",
      "4    231\n",
      "5    208\n",
      "1    135\n",
      "6    105\n",
      "0     66\n",
      "Name: TrainingTimesLastYear, dtype: int64\n",
      "The value Counts of people leaving is as follow 2    189\n",
      "3    186\n",
      "5     39\n",
      "4     24\n",
      "1     18\n",
      "0     18\n",
      "6      9\n",
      "Name: TrainingTimesLastYear, dtype: int64\n",
      " The difference in the value of the stay and left numerical factors are 0.14506459164767138\n",
      "The Numerical Value is YearsAtCompany \n",
      "\n",
      "The mean of the YearsAtCompany is 5.412758620689655\n",
      "The mean of the YearsAtCompany  Who stayed is 5.717418287132809\n",
      "The mean of the YearsAtCompany  Who left is 3.888198757763975 \n",
      "\n",
      "The value Counts of people staying is as follow 5     384\n",
      "3     241\n",
      "1     235\n",
      "2     210\n",
      "10    207\n",
      "4     198\n",
      "9     177\n",
      "7     171\n",
      "6     168\n",
      "8     150\n",
      "11     72\n",
      "0      69\n",
      "13     33\n",
      "14     33\n",
      "12     27\n",
      "15     24\n",
      "16     12\n",
      "17      6\n",
      "Name: YearsAtCompany, dtype: int64\n",
      "The value Counts of people leaving is as follow 1     144\n",
      "5      51\n",
      "2      48\n",
      "4      36\n",
      "3      36\n",
      "0      36\n",
      "10     33\n",
      "8      24\n",
      "7      24\n",
      "6      21\n",
      "9      18\n",
      "11      6\n",
      "16      3\n",
      "13      3\n",
      "Name: YearsAtCompany, dtype: int64\n",
      " The difference in the value of the stay and left numerical factors are 1.8292195293688343\n",
      "The Numerical Value is YearsSinceLastPromotion \n",
      "\n",
      "The mean of the YearsSinceLastPromotion is 1.3927586206896552\n",
      "The mean of the YearsSinceLastPromotion  Who stayed is 1.4129085643359536\n",
      "The mean of the YearsSinceLastPromotion  Who left is 1.2919254658385093 \n",
      "\n",
      "The value Counts of people staying is as follow 0    1036\n",
      "1     685\n",
      "2     264\n",
      "7     123\n",
      "4     102\n",
      "5      84\n",
      "3      75\n",
      "6      48\n",
      "Name: YearsSinceLastPromotion, dtype: int64\n",
      "The value Counts of people leaving is as follow 0    255\n",
      "1    111\n",
      "7     42\n",
      "2     39\n",
      "3     18\n",
      "4      9\n",
      "6      6\n",
      "5      3\n",
      "Name: YearsSinceLastPromotion, dtype: int64\n",
      " The difference in the value of the stay and left numerical factors are 0.12098309849744426\n",
      "The Numerical Value is YearsWithCurrManager \n",
      "\n",
      "The mean of the YearsWithCurrManager is 3.5055172413793105\n",
      "The mean of the YearsWithCurrManager  Who stayed is 3.734381464625569\n",
      "The mean of the YearsWithCurrManager  Who left is 2.360248447204969 \n",
      "\n",
      "The value Counts of people staying is as follow 2     655\n",
      "0     385\n",
      "7     366\n",
      "3     258\n",
      "8     186\n",
      "4     186\n",
      "1     135\n",
      "9      87\n",
      "5      63\n",
      "11     27\n",
      "6      27\n",
      "10     24\n",
      "12     18\n",
      "Name: YearsWithCurrManager, dtype: int64\n",
      "The value Counts of people leaving is as follow 0     201\n",
      "2      93\n",
      "7      63\n",
      "3      36\n",
      "4      27\n",
      "1      27\n",
      "8      15\n",
      "9       6\n",
      "6       6\n",
      "5       6\n",
      "10      3\n",
      "Name: YearsWithCurrManager, dtype: int64\n",
      " The difference in the value of the stay and left numerical factors are 1.3741330174206001\n"
     ]
    }
   ],
   "source": [
    "for i in Numerical_columns:\n",
    "    print(\"The Numerical Value is\",i , \"\\n\")\n",
    "    print(\"The mean of the\" , i , \"is\" , dataset[i].mean() )\n",
    "    print(\"The mean of the\" , i , \" Who stayed is\" , stay[i].mean())\n",
    "    print(\"The mean of the\" , i , \" Who left is\" , left[i].mean(),\"\\n\")\n",
    "    print(\"The value Counts of people staying is as follow\", stay[i].value_counts())\n",
    "    print(\"The value Counts of people leaving is as follow\", left[i].value_counts())\n",
    "    \n",
    "    difference = np.abs((stay[i].mean()) - (left[i].mean()))\n",
    "    \n",
    "    print(\" The difference in the value of the stay and left numerical factors are\" , difference )\n",
    "    \n",
    "    \n",
    "    if difference > 4 :\n",
    "        print(\"this factor\" , i , \"is noticiable\")\n",
    "    "
   ]
  },
  {
   "cell_type": "code",
   "execution_count": 121,
   "metadata": {},
   "outputs": [],
   "source": [
    "### We can infer out that people of the age group 26 - 32 are leaving the company , but the people staying in the company \n",
    "#### are of the agr group of 29 up people so some employee of the similar age are also staying so the age cannot be \n",
    "####considered as primary factor mean age of the people staying is 31 and people leaving is 35\n",
    "\n",
    "\n",
    "#### Distance is also not the significant factor because the mean of both the DistanceFromHome is same there, Peoples from\n",
    "#### 10km are also coming and leaving the company this cant be consider as significant factor for analysis \n",
    "\n",
    "\n",
    "#### Most of the employee have are Bachelors in the company followed by the Masters and College,\n",
    "#### People who have completed their masters and college and bachelors are more likely to leave the company , Employee\n",
    "#### with the degree below college and doctrate are less likely to leave the company\n",
    "\n",
    "\n",
    "#### The average monthly Income Is in range of 54k only for the one who left and for the one who stayed\n",
    "\n",
    "#### The employee working in single company or zero company or 4 comapny are more likely to leave the Company\n",
    "\n",
    "#### Employee with 15 % Salary Hike are more likely to leave the company ramge of 11-14 % are elaving the company\n",
    "\n",
    "#### The employee with 6 years of working nis likely to leave the company and the emplyee with 9 or more years of expeience\n",
    "#### tend to stay\n",
    "\n",
    "\n",
    "#### TotalWorkingYears == 1 tends to leave more and totalworkingyear == 10\n",
    "\n",
    "#### TrainingTimeLastYear == 2 & 3\n",
    "\n",
    "####  YearsAtCompany == 1 - 5"
   ]
  },
  {
   "cell_type": "code",
   "execution_count": 124,
   "metadata": {},
   "outputs": [
    {
     "data": {
      "text/plain": [
       "(2417, 25)"
      ]
     },
     "execution_count": 124,
     "metadata": {},
     "output_type": "execute_result"
    }
   ],
   "source": [
    "stay.shape ### Gives the shape of the data show number of rows and Columns"
   ]
  },
  {
   "cell_type": "code",
   "execution_count": 125,
   "metadata": {},
   "outputs": [
    {
     "data": {
      "text/plain": [
       "(483, 25)"
      ]
     },
     "execution_count": 125,
     "metadata": {},
     "output_type": "execute_result"
    }
   ],
   "source": [
    "left.shape"
   ]
  },
  {
   "cell_type": "code",
   "execution_count": 147,
   "metadata": {},
   "outputs": [
    {
     "name": "stdout",
     "output_type": "stream",
     "text": [
      "The Numerical Value is Age\n",
      "The given data is Paltykurtic means data is concentrated towrds the tail \n",
      "\n",
      "The Numerical Value is DistanceFromHome\n",
      "The given data is Paltykurtic means data is concentrated towrds the tail \n",
      "\n",
      "The Numerical Value is Education\n",
      "The given data is Paltykurtic means data is concentrated towrds the tail \n",
      "\n",
      "The Numerical Value is EmployeeCount\n",
      "The given data is Platykurtic means data is well spread \n",
      "\n",
      "The Numerical Value is EmployeeID\n",
      "The given data is Paltykurtic means data is concentrated towrds the tail \n",
      "\n",
      "The Numerical Value is JobLevel\n",
      "The given data is Mesokurtic means data is concentrated toward mean \n",
      "\n",
      "The Numerical Value is MonthlyIncome\n",
      "The given data is Mesokurtic means data is concentrated toward mean \n",
      "\n",
      "The Numerical Value is NumCompaniesWorked\n",
      "The given data is Paltykurtic means data is concentrated towrds the tail \n",
      "\n",
      "The Numerical Value is PercentSalaryHike\n",
      "The given data is Paltykurtic means data is concentrated towrds the tail \n",
      "\n",
      "The Numerical Value is StandardHours\n",
      "The given data is Platykurtic means data is well spread \n",
      "\n",
      "The Numerical Value is StockOptionLevel\n",
      "The given data is Mesokurtic means data is concentrated toward mean \n",
      "\n",
      "The Numerical Value is TotalWorkingYears\n",
      "The given data is Mesokurtic means data is concentrated toward mean \n",
      "\n",
      "The Numerical Value is TrainingTimesLastYear\n",
      "The given data is Mesokurtic means data is concentrated toward mean \n",
      "\n",
      "The Numerical Value is YearsAtCompany\n",
      "The given data is Paltykurtic means data is concentrated towrds the tail \n",
      "\n",
      "The Numerical Value is YearsSinceLastPromotion\n",
      "The given data is Mesokurtic means data is concentrated toward mean \n",
      "\n",
      "The Numerical Value is YearsWithCurrManager\n",
      "The given data is Paltykurtic means data is concentrated towrds the tail \n",
      "\n"
     ]
    }
   ],
   "source": [
    "#### let Us know more about the data : Kutosis / Skewness \n",
    "\n",
    "for i in Numerical_columns:\n",
    "    print(\"The Numerical Value is\" , i)\n",
    "    if dataset[i].kurtosis() == 0:\n",
    "        print(\"The given data is Platykurtic means data is well spread \\n\")\n",
    "    elif dataset[i].kurtosis() > 0:\n",
    "        print(\"The given data is Mesokurtic means data is concentrated toward mean \\n\")\n",
    "    else:\n",
    "        print(\"The given data is Paltykurtic means data is concentrated towrds the tail \\n\")"
   ]
  },
  {
   "cell_type": "code",
   "execution_count": 148,
   "metadata": {},
   "outputs": [
    {
     "name": "stdout",
     "output_type": "stream",
     "text": [
      "Age\n"
     ]
    },
    {
     "data": {
      "image/png": "[encoded data removed]",
      "text/plain": [
       "<Figure size 432x288 with 1 Axes>"
      ]
     },
     "metadata": {
      "needs_background": "light"
     },
     "output_type": "display_data"
    },
    {
     "name": "stdout",
     "output_type": "stream",
     "text": [
      "DistanceFromHome\n"
     ]
    },
    {
     "data": {
      "image/png": "[encoded data removed]",
      "text/plain": [
       "<Figure size 432x288 with 1 Axes>"
      ]
     },
     "metadata": {
      "needs_background": "light"
     },
     "output_type": "display_data"
    },
    {
     "name": "stdout",
     "output_type": "stream",
     "text": [
      "Education\n"
     ]
    },
    {
     "data": {
      "image/png": "[encoded data removed]",
      "text/plain": [
       "<Figure size 432x288 with 1 Axes>"
      ]
     },
     "metadata": {
      "needs_background": "light"
     },
     "output_type": "display_data"
    },
    {
     "name": "stdout",
     "output_type": "stream",
     "text": [
      "EmployeeCount\n"
     ]
    },
    {
     "data": {
      "image/png": "[encoded data removed]",
      "text/plain": [
       "<Figure size 432x288 with 1 Axes>"
      ]
     },
     "metadata": {
      "needs_background": "light"
     },
     "output_type": "display_data"
    },
    {
     "name": "stdout",
     "output_type": "stream",
     "text": [
      "EmployeeID\n"
     ]
    },
    {
     "data": {
      "image/png": "[encoded data removed]",
      "text/plain": [
       "<Figure size 432x288 with 1 Axes>"
      ]
     },
     "metadata": {
      "needs_background": "light"
     },
     "output_type": "display_data"
    },
    {
     "name": "stdout",
     "output_type": "stream",
     "text": [
      "JobLevel\n"
     ]
    },
    {
     "data": {
      "image/png": "[encoded data removed]",
      "text/plain": [
       "<Figure size 432x288 with 1 Axes>"
      ]
     },
     "metadata": {
      "needs_background": "light"
     },
     "output_type": "display_data"
    },
    {
     "name": "stdout",
     "output_type": "stream",
     "text": [
      "MonthlyIncome\n"
     ]
    },
    {
     "data": {
      "image/png": "[encoded data removed]",
      "text/plain": [
       "<Figure size 432x288 with 1 Axes>"
      ]
     },
     "metadata": {
      "needs_background": "light"
     },
     "output_type": "display_data"
    },
    {
     "name": "stdout",
     "output_type": "stream",
     "text": [
      "NumCompaniesWorked\n"
     ]
    },
    {
     "data": {
      "image/png": "[encoded data removed]",
      "text/plain": [
       "<Figure size 432x288 with 1 Axes>"
      ]
     },
     "metadata": {
      "needs_background": "light"
     },
     "output_type": "display_data"
    },
    {
     "name": "stdout",
     "output_type": "stream",
     "text": [
      "PercentSalaryHike\n"
     ]
    },
    {
     "data": {
      "image/png": "[encoded data removed]",
      "text/plain": [
       "<Figure size 432x288 with 1 Axes>"
      ]
     },
     "metadata": {
      "needs_background": "light"
     },
     "output_type": "display_data"
    },
    {
     "name": "stdout",
     "output_type": "stream",
     "text": [
      "StandardHours\n"
     ]
    },
    {
     "data": {
      "image/png": "[encoded data removed]",
      "text/plain": [
       "<Figure size 432x288 with 1 Axes>"
      ]
     },
     "metadata": {
      "needs_background": "light"
     },
     "output_type": "display_data"
    },
    {
     "name": "stdout",
     "output_type": "stream",
     "text": [
      "StockOptionLevel\n"
     ]
    },
    {
     "data": {
      "image/png": "[encoded data removed]",
      "text/plain": [
       "<Figure size 432x288 with 1 Axes>"
      ]
     },
     "metadata": {
      "needs_background": "light"
     },
     "output_type": "display_data"
    },
    {
     "name": "stdout",
     "output_type": "stream",
     "text": [
      "TotalWorkingYears\n"
     ]
    },
    {
     "data": {
      "image/png": "[encoded data removed]",
      "text/plain": [
       "<Figure size 432x288 with 1 Axes>"
      ]
     },
     "metadata": {
      "needs_background": "light"
     },
     "output_type": "display_data"
    },
    {
     "name": "stdout",
     "output_type": "stream",
     "text": [
      "TrainingTimesLastYear\n"
     ]
    },
    {
     "data": {
      "image/png": "[encoded data removed]",
      "text/plain": [
       "<Figure size 432x288 with 1 Axes>"
      ]
     },
     "metadata": {
      "needs_background": "light"
     },
     "output_type": "display_data"
    },
    {
     "name": "stdout",
     "output_type": "stream",
     "text": [
      "YearsAtCompany\n"
     ]
    },
    {
     "data": {
      "image/png": "[encoded data removed]",
      "text/plain": [
       "<Figure size 432x288 with 1 Axes>"
      ]
     },
     "metadata": {
      "needs_background": "light"
     },
     "output_type": "display_data"
    },
    {
     "name": "stdout",
     "output_type": "stream",
     "text": [
      "YearsSinceLastPromotion\n"
     ]
    },
    {
     "data": {
      "image/png": "[encoded data removed]",
      "text/plain": [
       "<Figure size 432x288 with 1 Axes>"
      ]
     },
     "metadata": {
      "needs_background": "light"
     },
     "output_type": "display_data"
    },
    {
     "name": "stdout",
     "output_type": "stream",
     "text": [
      "YearsWithCurrManager\n"
     ]
    },
    {
     "data": {
      "image/png": "[encoded data removed]",
      "text/plain": [
       "<Figure size 432x288 with 1 Axes>"
      ]
     },
     "metadata": {
      "needs_background": "light"
     },
     "output_type": "display_data"
    }
   ],
   "source": [
    "for i in Numerical_columns:\n",
    "    print(i)\n",
    "    plt.hist(dataset[i])\n",
    "    plt.show()"
   ]
  },
  {
   "cell_type": "code",
   "execution_count": 145,
   "metadata": {},
   "outputs": [
    {
     "name": "stdout",
     "output_type": "stream",
     "text": [
      "Male      303\n",
      "Female    180\n",
      "Name: Gender, dtype: int64 \n",
      "\n",
      "Male      1439\n",
      "Female     978\n",
      "Name: Gender, dtype: int64 \n",
      "\n",
      "Male      1742\n",
      "Female    1158\n",
      "Name: Gender, dtype: int64 \n",
      "\n",
      " Males are more tend to leave the company then the female\n"
     ]
    }
   ],
   "source": [
    "### We can also check which gender leaving the company is more \n",
    "\n",
    "print(left[\"Gender\"].value_counts(),\"\\n\")\n",
    "print(stay[\"Gender\"].value_counts(),\"\\n\")\n",
    "print(dataset[\"Gender\"].value_counts(),\"\\n\")\n",
    "\n",
    "print(\" Males are more tend to leave the company then the female\")"
   ]
  },
  {
   "cell_type": "code",
   "execution_count": 151,
   "metadata": {},
   "outputs": [
    {
     "data": {
      "text/html": [
       "<div>\n",
       "<style scoped>\n",
       "    .dataframe tbody tr th:only-of-type {\n",
       "        vertical-align: middle;\n",
       "    }\n",
       "\n",
       "    .dataframe tbody tr th {\n",
       "        vertical-align: top;\n",
       "    }\n",
       "\n",
       "    .dataframe thead th {\n",
       "        text-align: right;\n",
       "    }\n",
       "</style>\n",
       "<table border=\"1\" class=\"dataframe\">\n",
       "  <thead>\n",
       "    <tr style=\"text-align: right;\">\n",
       "      <th></th>\n",
       "      <th>Age</th>\n",
       "      <th>DistanceFromHome</th>\n",
       "      <th>Education</th>\n",
       "      <th>EmployeeCount</th>\n",
       "      <th>EmployeeID</th>\n",
       "      <th>JobLevel</th>\n",
       "      <th>MonthlyIncome</th>\n",
       "      <th>NumCompaniesWorked</th>\n",
       "      <th>PercentSalaryHike</th>\n",
       "      <th>StandardHours</th>\n",
       "      <th>StockOptionLevel</th>\n",
       "      <th>TotalWorkingYears</th>\n",
       "      <th>TrainingTimesLastYear</th>\n",
       "      <th>YearsAtCompany</th>\n",
       "      <th>YearsSinceLastPromotion</th>\n",
       "      <th>YearsWithCurrManager</th>\n",
       "      <th>attrition</th>\n",
       "    </tr>\n",
       "  </thead>\n",
       "  <tbody>\n",
       "    <tr>\n",
       "      <th>Age</th>\n",
       "      <td>1.000000</td>\n",
       "      <td>0.002076</td>\n",
       "      <td>-0.022214</td>\n",
       "      <td>NaN</td>\n",
       "      <td>0.013338</td>\n",
       "      <td>0.009841</td>\n",
       "      <td>-0.042883</td>\n",
       "      <td>0.361745</td>\n",
       "      <td>-0.058284</td>\n",
       "      <td>NaN</td>\n",
       "      <td>-0.037704</td>\n",
       "      <td>0.600561</td>\n",
       "      <td>-0.007548</td>\n",
       "      <td>0.140419</td>\n",
       "      <td>0.078557</td>\n",
       "      <td>0.104520</td>\n",
       "      <td>-0.174444</td>\n",
       "    </tr>\n",
       "    <tr>\n",
       "      <th>DistanceFromHome</th>\n",
       "      <td>0.002076</td>\n",
       "      <td>1.000000</td>\n",
       "      <td>0.010749</td>\n",
       "      <td>NaN</td>\n",
       "      <td>0.003293</td>\n",
       "      <td>-0.030640</td>\n",
       "      <td>-0.022795</td>\n",
       "      <td>-0.015492</td>\n",
       "      <td>0.026006</td>\n",
       "      <td>NaN</td>\n",
       "      <td>0.002947</td>\n",
       "      <td>-0.009761</td>\n",
       "      <td>-0.005816</td>\n",
       "      <td>0.013143</td>\n",
       "      <td>0.032880</td>\n",
       "      <td>0.019734</td>\n",
       "      <td>-0.006047</td>\n",
       "    </tr>\n",
       "    <tr>\n",
       "      <th>Education</th>\n",
       "      <td>-0.022214</td>\n",
       "      <td>0.010749</td>\n",
       "      <td>1.000000</td>\n",
       "      <td>NaN</td>\n",
       "      <td>-0.017907</td>\n",
       "      <td>0.042088</td>\n",
       "      <td>0.007895</td>\n",
       "      <td>0.012885</td>\n",
       "      <td>-0.032867</td>\n",
       "      <td>NaN</td>\n",
       "      <td>-0.000088</td>\n",
       "      <td>0.025687</td>\n",
       "      <td>0.009416</td>\n",
       "      <td>-0.029636</td>\n",
       "      <td>-0.029452</td>\n",
       "      <td>-0.022720</td>\n",
       "      <td>-0.043793</td>\n",
       "    </tr>\n",
       "    <tr>\n",
       "      <th>EmployeeCount</th>\n",
       "      <td>NaN</td>\n",
       "      <td>NaN</td>\n",
       "      <td>NaN</td>\n",
       "      <td>NaN</td>\n",
       "      <td>NaN</td>\n",
       "      <td>NaN</td>\n",
       "      <td>NaN</td>\n",
       "      <td>NaN</td>\n",
       "      <td>NaN</td>\n",
       "      <td>NaN</td>\n",
       "      <td>NaN</td>\n",
       "      <td>NaN</td>\n",
       "      <td>NaN</td>\n",
       "      <td>NaN</td>\n",
       "      <td>NaN</td>\n",
       "      <td>NaN</td>\n",
       "      <td>NaN</td>\n",
       "    </tr>\n",
       "    <tr>\n",
       "      <th>EmployeeID</th>\n",
       "      <td>0.013338</td>\n",
       "      <td>0.003293</td>\n",
       "      <td>-0.017907</td>\n",
       "      <td>NaN</td>\n",
       "      <td>1.000000</td>\n",
       "      <td>-0.000828</td>\n",
       "      <td>-0.003941</td>\n",
       "      <td>-0.002033</td>\n",
       "      <td>0.004575</td>\n",
       "      <td>NaN</td>\n",
       "      <td>-0.025132</td>\n",
       "      <td>0.011846</td>\n",
       "      <td>0.005561</td>\n",
       "      <td>0.017201</td>\n",
       "      <td>-0.002295</td>\n",
       "      <td>0.014066</td>\n",
       "      <td>-0.010526</td>\n",
       "    </tr>\n",
       "    <tr>\n",
       "      <th>JobLevel</th>\n",
       "      <td>0.009841</td>\n",
       "      <td>-0.030640</td>\n",
       "      <td>0.042088</td>\n",
       "      <td>NaN</td>\n",
       "      <td>-0.000828</td>\n",
       "      <td>1.000000</td>\n",
       "      <td>0.056983</td>\n",
       "      <td>-0.002275</td>\n",
       "      <td>0.047891</td>\n",
       "      <td>NaN</td>\n",
       "      <td>0.010854</td>\n",
       "      <td>-0.007755</td>\n",
       "      <td>-0.007810</td>\n",
       "      <td>0.018208</td>\n",
       "      <td>-0.004712</td>\n",
       "      <td>-0.004909</td>\n",
       "      <td>0.000301</td>\n",
       "    </tr>\n",
       "    <tr>\n",
       "      <th>MonthlyIncome</th>\n",
       "      <td>-0.042883</td>\n",
       "      <td>-0.022795</td>\n",
       "      <td>0.007895</td>\n",
       "      <td>NaN</td>\n",
       "      <td>-0.003941</td>\n",
       "      <td>0.056983</td>\n",
       "      <td>1.000000</td>\n",
       "      <td>-0.083095</td>\n",
       "      <td>0.005319</td>\n",
       "      <td>NaN</td>\n",
       "      <td>0.020658</td>\n",
       "      <td>-0.049715</td>\n",
       "      <td>0.047949</td>\n",
       "      <td>0.020408</td>\n",
       "      <td>0.036647</td>\n",
       "      <td>0.025054</td>\n",
       "      <td>-0.001197</td>\n",
       "    </tr>\n",
       "    <tr>\n",
       "      <th>NumCompaniesWorked</th>\n",
       "      <td>0.361745</td>\n",
       "      <td>-0.015492</td>\n",
       "      <td>0.012885</td>\n",
       "      <td>NaN</td>\n",
       "      <td>-0.002033</td>\n",
       "      <td>-0.002275</td>\n",
       "      <td>-0.083095</td>\n",
       "      <td>1.000000</td>\n",
       "      <td>-0.057120</td>\n",
       "      <td>NaN</td>\n",
       "      <td>0.017425</td>\n",
       "      <td>0.398607</td>\n",
       "      <td>-0.006154</td>\n",
       "      <td>-0.183690</td>\n",
       "      <td>-0.100667</td>\n",
       "      <td>-0.152290</td>\n",
       "      <td>-0.010010</td>\n",
       "    </tr>\n",
       "    <tr>\n",
       "      <th>PercentSalaryHike</th>\n",
       "      <td>-0.058284</td>\n",
       "      <td>0.026006</td>\n",
       "      <td>-0.032867</td>\n",
       "      <td>NaN</td>\n",
       "      <td>0.004575</td>\n",
       "      <td>0.047891</td>\n",
       "      <td>0.005319</td>\n",
       "      <td>-0.057120</td>\n",
       "      <td>1.000000</td>\n",
       "      <td>NaN</td>\n",
       "      <td>0.006214</td>\n",
       "      <td>-0.032125</td>\n",
       "      <td>-0.066117</td>\n",
       "      <td>0.003922</td>\n",
       "      <td>-0.017046</td>\n",
       "      <td>-0.013647</td>\n",
       "      <td>0.044767</td>\n",
       "    </tr>\n",
       "    <tr>\n",
       "      <th>StandardHours</th>\n",
       "      <td>NaN</td>\n",
       "      <td>NaN</td>\n",
       "      <td>NaN</td>\n",
       "      <td>NaN</td>\n",
       "      <td>NaN</td>\n",
       "      <td>NaN</td>\n",
       "      <td>NaN</td>\n",
       "      <td>NaN</td>\n",
       "      <td>NaN</td>\n",
       "      <td>NaN</td>\n",
       "      <td>NaN</td>\n",
       "      <td>NaN</td>\n",
       "      <td>NaN</td>\n",
       "      <td>NaN</td>\n",
       "      <td>NaN</td>\n",
       "      <td>NaN</td>\n",
       "      <td>NaN</td>\n",
       "    </tr>\n",
       "    <tr>\n",
       "      <th>StockOptionLevel</th>\n",
       "      <td>-0.037704</td>\n",
       "      <td>0.002947</td>\n",
       "      <td>-0.000088</td>\n",
       "      <td>NaN</td>\n",
       "      <td>-0.025132</td>\n",
       "      <td>0.010854</td>\n",
       "      <td>0.020658</td>\n",
       "      <td>0.017425</td>\n",
       "      <td>0.006214</td>\n",
       "      <td>NaN</td>\n",
       "      <td>1.000000</td>\n",
       "      <td>-0.005177</td>\n",
       "      <td>-0.042188</td>\n",
       "      <td>-0.014869</td>\n",
       "      <td>0.000428</td>\n",
       "      <td>-0.008179</td>\n",
       "      <td>-0.006997</td>\n",
       "    </tr>\n",
       "    <tr>\n",
       "      <th>TotalWorkingYears</th>\n",
       "      <td>0.600561</td>\n",
       "      <td>-0.009761</td>\n",
       "      <td>0.025687</td>\n",
       "      <td>NaN</td>\n",
       "      <td>0.011846</td>\n",
       "      <td>-0.007755</td>\n",
       "      <td>-0.049715</td>\n",
       "      <td>0.398607</td>\n",
       "      <td>-0.032125</td>\n",
       "      <td>NaN</td>\n",
       "      <td>-0.005177</td>\n",
       "      <td>1.000000</td>\n",
       "      <td>-0.028309</td>\n",
       "      <td>0.421833</td>\n",
       "      <td>0.190264</td>\n",
       "      <td>0.350367</td>\n",
       "      <td>-0.206103</td>\n",
       "    </tr>\n",
       "    <tr>\n",
       "      <th>TrainingTimesLastYear</th>\n",
       "      <td>-0.007548</td>\n",
       "      <td>-0.005816</td>\n",
       "      <td>0.009416</td>\n",
       "      <td>NaN</td>\n",
       "      <td>0.005561</td>\n",
       "      <td>-0.007810</td>\n",
       "      <td>0.047949</td>\n",
       "      <td>-0.006154</td>\n",
       "      <td>-0.066117</td>\n",
       "      <td>NaN</td>\n",
       "      <td>-0.042188</td>\n",
       "      <td>-0.028309</td>\n",
       "      <td>1.000000</td>\n",
       "      <td>0.000305</td>\n",
       "      <td>0.019196</td>\n",
       "      <td>-0.002711</td>\n",
       "      <td>-0.042841</td>\n",
       "    </tr>\n",
       "    <tr>\n",
       "      <th>YearsAtCompany</th>\n",
       "      <td>0.140419</td>\n",
       "      <td>0.013143</td>\n",
       "      <td>-0.029636</td>\n",
       "      <td>NaN</td>\n",
       "      <td>0.017201</td>\n",
       "      <td>0.018208</td>\n",
       "      <td>0.020408</td>\n",
       "      <td>-0.183690</td>\n",
       "      <td>0.003922</td>\n",
       "      <td>NaN</td>\n",
       "      <td>-0.014869</td>\n",
       "      <td>0.421833</td>\n",
       "      <td>0.000305</td>\n",
       "      <td>1.000000</td>\n",
       "      <td>0.452389</td>\n",
       "      <td>0.839261</td>\n",
       "      <td>-0.189018</td>\n",
       "    </tr>\n",
       "    <tr>\n",
       "      <th>YearsSinceLastPromotion</th>\n",
       "      <td>0.078557</td>\n",
       "      <td>0.032880</td>\n",
       "      <td>-0.029452</td>\n",
       "      <td>NaN</td>\n",
       "      <td>-0.002295</td>\n",
       "      <td>-0.004712</td>\n",
       "      <td>0.036647</td>\n",
       "      <td>-0.100667</td>\n",
       "      <td>-0.017046</td>\n",
       "      <td>NaN</td>\n",
       "      <td>0.000428</td>\n",
       "      <td>0.190264</td>\n",
       "      <td>0.019196</td>\n",
       "      <td>0.452389</td>\n",
       "      <td>1.000000</td>\n",
       "      <td>0.437773</td>\n",
       "      <td>-0.022937</td>\n",
       "    </tr>\n",
       "    <tr>\n",
       "      <th>YearsWithCurrManager</th>\n",
       "      <td>0.104520</td>\n",
       "      <td>0.019734</td>\n",
       "      <td>-0.022720</td>\n",
       "      <td>NaN</td>\n",
       "      <td>0.014066</td>\n",
       "      <td>-0.004909</td>\n",
       "      <td>0.025054</td>\n",
       "      <td>-0.152290</td>\n",
       "      <td>-0.013647</td>\n",
       "      <td>NaN</td>\n",
       "      <td>-0.008179</td>\n",
       "      <td>0.350367</td>\n",
       "      <td>-0.002711</td>\n",
       "      <td>0.839261</td>\n",
       "      <td>0.437773</td>\n",
       "      <td>1.000000</td>\n",
       "      <td>-0.169488</td>\n",
       "    </tr>\n",
       "    <tr>\n",
       "      <th>attrition</th>\n",
       "      <td>-0.174444</td>\n",
       "      <td>-0.006047</td>\n",
       "      <td>-0.043793</td>\n",
       "      <td>NaN</td>\n",
       "      <td>-0.010526</td>\n",
       "      <td>0.000301</td>\n",
       "      <td>-0.001197</td>\n",
       "      <td>-0.010010</td>\n",
       "      <td>0.044767</td>\n",
       "      <td>NaN</td>\n",
       "      <td>-0.006997</td>\n",
       "      <td>-0.206103</td>\n",
       "      <td>-0.042841</td>\n",
       "      <td>-0.189018</td>\n",
       "      <td>-0.022937</td>\n",
       "      <td>-0.169488</td>\n",
       "      <td>1.000000</td>\n",
       "    </tr>\n",
       "  </tbody>\n",
       "</table>\n",
       "</div>"
      ],
      "text/plain": [
       "                              Age  DistanceFromHome  Education  EmployeeCount  \\\n",
       "Age                      1.000000          0.002076  -0.022214            NaN   \n",
       "DistanceFromHome         0.002076          1.000000   0.010749            NaN   \n",
       "Education               -0.022214          0.010749   1.000000            NaN   \n",
       "EmployeeCount                 NaN               NaN        NaN            NaN   \n",
       "EmployeeID               0.013338          0.003293  -0.017907            NaN   \n",
       "JobLevel                 0.009841         -0.030640   0.042088            NaN   \n",
       "MonthlyIncome           -0.042883         -0.022795   0.007895            NaN   \n",
       "NumCompaniesWorked       0.361745         -0.015492   0.012885            NaN   \n",
       "PercentSalaryHike       -0.058284          0.026006  -0.032867            NaN   \n",
       "StandardHours                 NaN               NaN        NaN            NaN   \n",
       "StockOptionLevel        -0.037704          0.002947  -0.000088            NaN   \n",
       "TotalWorkingYears        0.600561         -0.009761   0.025687            NaN   \n",
       "TrainingTimesLastYear   -0.007548         -0.005816   0.009416            NaN   \n",
       "YearsAtCompany           0.140419          0.013143  -0.029636            NaN   \n",
       "YearsSinceLastPromotion  0.078557          0.032880  -0.029452            NaN   \n",
       "YearsWithCurrManager     0.104520          0.019734  -0.022720            NaN   \n",
       "attrition               -0.174444         -0.006047  -0.043793            NaN   \n",
       "\n",
       "                         EmployeeID  JobLevel  MonthlyIncome  \\\n",
       "Age                        0.013338  0.009841      -0.042883   \n",
       "DistanceFromHome           0.003293 -0.030640      -0.022795   \n",
       "Education                 -0.017907  0.042088       0.007895   \n",
       "EmployeeCount                   NaN       NaN            NaN   \n",
       "EmployeeID                 1.000000 -0.000828      -0.003941   \n",
       "JobLevel                  -0.000828  1.000000       0.056983   \n",
       "MonthlyIncome             -0.003941  0.056983       1.000000   \n",
       "NumCompaniesWorked        -0.002033 -0.002275      -0.083095   \n",
       "PercentSalaryHike          0.004575  0.047891       0.005319   \n",
       "StandardHours                   NaN       NaN            NaN   \n",
       "StockOptionLevel          -0.025132  0.010854       0.020658   \n",
       "TotalWorkingYears          0.011846 -0.007755      -0.049715   \n",
       "TrainingTimesLastYear      0.005561 -0.007810       0.047949   \n",
       "YearsAtCompany             0.017201  0.018208       0.020408   \n",
       "YearsSinceLastPromotion   -0.002295 -0.004712       0.036647   \n",
       "YearsWithCurrManager       0.014066 -0.004909       0.025054   \n",
       "attrition                 -0.010526  0.000301      -0.001197   \n",
       "\n",
       "                         NumCompaniesWorked  PercentSalaryHike  StandardHours  \\\n",
       "Age                                0.361745          -0.058284            NaN   \n",
       "DistanceFromHome                  -0.015492           0.026006            NaN   \n",
       "Education                          0.012885          -0.032867            NaN   \n",
       "EmployeeCount                           NaN                NaN            NaN   \n",
       "EmployeeID                        -0.002033           0.004575            NaN   \n",
       "JobLevel                          -0.002275           0.047891            NaN   \n",
       "MonthlyIncome                     -0.083095           0.005319            NaN   \n",
       "NumCompaniesWorked                 1.000000          -0.057120            NaN   \n",
       "PercentSalaryHike                 -0.057120           1.000000            NaN   \n",
       "StandardHours                           NaN                NaN            NaN   \n",
       "StockOptionLevel                   0.017425           0.006214            NaN   \n",
       "TotalWorkingYears                  0.398607          -0.032125            NaN   \n",
       "TrainingTimesLastYear             -0.006154          -0.066117            NaN   \n",
       "YearsAtCompany                    -0.183690           0.003922            NaN   \n",
       "YearsSinceLastPromotion           -0.100667          -0.017046            NaN   \n",
       "YearsWithCurrManager              -0.152290          -0.013647            NaN   \n",
       "attrition                         -0.010010           0.044767            NaN   \n",
       "\n",
       "                         StockOptionLevel  TotalWorkingYears  \\\n",
       "Age                             -0.037704           0.600561   \n",
       "DistanceFromHome                 0.002947          -0.009761   \n",
       "Education                       -0.000088           0.025687   \n",
       "EmployeeCount                         NaN                NaN   \n",
       "EmployeeID                      -0.025132           0.011846   \n",
       "JobLevel                         0.010854          -0.007755   \n",
       "MonthlyIncome                    0.020658          -0.049715   \n",
       "NumCompaniesWorked               0.017425           0.398607   \n",
       "PercentSalaryHike                0.006214          -0.032125   \n",
       "StandardHours                         NaN                NaN   \n",
       "StockOptionLevel                 1.000000          -0.005177   \n",
       "TotalWorkingYears               -0.005177           1.000000   \n",
       "TrainingTimesLastYear           -0.042188          -0.028309   \n",
       "YearsAtCompany                  -0.014869           0.421833   \n",
       "YearsSinceLastPromotion          0.000428           0.190264   \n",
       "YearsWithCurrManager            -0.008179           0.350367   \n",
       "attrition                       -0.006997          -0.206103   \n",
       "\n",
       "                         TrainingTimesLastYear  YearsAtCompany  \\\n",
       "Age                                  -0.007548        0.140419   \n",
       "DistanceFromHome                     -0.005816        0.013143   \n",
       "Education                             0.009416       -0.029636   \n",
       "EmployeeCount                              NaN             NaN   \n",
       "EmployeeID                            0.005561        0.017201   \n",
       "JobLevel                             -0.007810        0.018208   \n",
       "MonthlyIncome                         0.047949        0.020408   \n",
       "NumCompaniesWorked                   -0.006154       -0.183690   \n",
       "PercentSalaryHike                    -0.066117        0.003922   \n",
       "StandardHours                              NaN             NaN   \n",
       "StockOptionLevel                     -0.042188       -0.014869   \n",
       "TotalWorkingYears                    -0.028309        0.421833   \n",
       "TrainingTimesLastYear                 1.000000        0.000305   \n",
       "YearsAtCompany                        0.000305        1.000000   \n",
       "YearsSinceLastPromotion               0.019196        0.452389   \n",
       "YearsWithCurrManager                 -0.002711        0.839261   \n",
       "attrition                            -0.042841       -0.189018   \n",
       "\n",
       "                         YearsSinceLastPromotion  YearsWithCurrManager  \\\n",
       "Age                                     0.078557              0.104520   \n",
       "DistanceFromHome                        0.032880              0.019734   \n",
       "Education                              -0.029452             -0.022720   \n",
       "EmployeeCount                                NaN                   NaN   \n",
       "EmployeeID                             -0.002295              0.014066   \n",
       "JobLevel                               -0.004712             -0.004909   \n",
       "MonthlyIncome                           0.036647              0.025054   \n",
       "NumCompaniesWorked                     -0.100667             -0.152290   \n",
       "PercentSalaryHike                      -0.017046             -0.013647   \n",
       "StandardHours                                NaN                   NaN   \n",
       "StockOptionLevel                        0.000428             -0.008179   \n",
       "TotalWorkingYears                       0.190264              0.350367   \n",
       "TrainingTimesLastYear                   0.019196             -0.002711   \n",
       "YearsAtCompany                          0.452389              0.839261   \n",
       "YearsSinceLastPromotion                 1.000000              0.437773   \n",
       "YearsWithCurrManager                    0.437773              1.000000   \n",
       "attrition                              -0.022937             -0.169488   \n",
       "\n",
       "                         attrition  \n",
       "Age                      -0.174444  \n",
       "DistanceFromHome         -0.006047  \n",
       "Education                -0.043793  \n",
       "EmployeeCount                  NaN  \n",
       "EmployeeID               -0.010526  \n",
       "JobLevel                  0.000301  \n",
       "MonthlyIncome            -0.001197  \n",
       "NumCompaniesWorked       -0.010010  \n",
       "PercentSalaryHike         0.044767  \n",
       "StandardHours                  NaN  \n",
       "StockOptionLevel         -0.006997  \n",
       "TotalWorkingYears        -0.206103  \n",
       "TrainingTimesLastYear    -0.042841  \n",
       "YearsAtCompany           -0.189018  \n",
       "YearsSinceLastPromotion  -0.022937  \n",
       "YearsWithCurrManager     -0.169488  \n",
       "attrition                 1.000000  "
      ]
     },
     "execution_count": 151,
     "metadata": {},
     "output_type": "execute_result"
    }
   ],
   "source": [
    "dataset.corr() ### Gives the correlation between different columns"
   ]
  },
  {
   "cell_type": "code",
   "execution_count": 152,
   "metadata": {},
   "outputs": [],
   "source": [
    "#### By seeing at the correlation table we can say that with increase in the age there is reduction in the attrition rate of\n",
    "#### employee\n",
    "\n",
    "\n",
    "#### With the increasing age at the company attrition is showing negative correlation.\n",
    "\n",
    "#### With the increase in the year with current manager attrition is decreasing"
   ]
  },
  {
   "cell_type": "code",
   "execution_count": 154,
   "metadata": {},
   "outputs": [
    {
     "data": {
      "text/plain": [
       "<matplotlib.collections.PathCollection at 0x1adb61d6108>"
      ]
     },
     "execution_count": 154,
     "metadata": {},
     "output_type": "execute_result"
    },
    {
     "data": {
      "image/png": "[encoded data removed]",
      "text/plain": [
       "<Figure size 432x288 with 1 Axes>"
      ]
     },
     "metadata": {
      "needs_background": "light"
     },
     "output_type": "display_data"
    }
   ],
   "source": [
    "plt.scatter(dataset[\"Age\"] ,dataset[\"MonthlyIncome\"])"
   ]
  },
  {
   "cell_type": "code",
   "execution_count": 155,
   "metadata": {},
   "outputs": [],
   "source": [
    "#### We can see that people in the age of 50 -60  dont have salary more than 80k"
   ]
  },
  {
   "cell_type": "code",
   "execution_count": null,
   "metadata": {},
   "outputs": [],
   "source": []
  }
 ],
 "metadata": {
  "kernelspec": {
   "display_name": "Python 3",
   "language": "python",
   "name": "python3"
  },
  "language_info": {
   "codemirror_mode": {
    "name": "ipython",
    "version": 3
   },
   "file_extension": ".py",
   "mimetype": "text/x-python",
   "name": "python",
   "nbconvert_exporter": "python",
   "pygments_lexer": "ipython3",
   "version": "3.7.6"
  }
 },
 "nbformat": 4,
 "nbformat_minor": 4
}
