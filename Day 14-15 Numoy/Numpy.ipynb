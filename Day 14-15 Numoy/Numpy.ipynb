{
 "cells": [
  {
   "cell_type": "markdown",
   "metadata": {},
   "source": [
    "1. Create a 3x3x3 array with random values"
   ]
  },
  {
   "cell_type": "code",
   "execution_count": 1,
   "metadata": {},
   "outputs": [],
   "source": [
    "import numpy as np"
   ]
  },
  {
   "cell_type": "code",
   "execution_count": 5,
   "metadata": {},
   "outputs": [],
   "source": [
    "arr1 = np.random.randint(low=0,high=100,size=(3,3,3))"
   ]
  },
  {
   "cell_type": "code",
   "execution_count": 6,
   "metadata": {},
   "outputs": [
    {
     "data": {
      "text/plain": [
       "array([[[41, 51, 85],\n",
       "        [ 5, 22, 98],\n",
       "        [61, 50, 31]],\n",
       "\n",
       "       [[77, 60, 87],\n",
       "        [45, 29,  2],\n",
       "        [27, 93, 37]],\n",
       "\n",
       "       [[35,  0, 90],\n",
       "        [61, 72, 49],\n",
       "        [20, 33, 48]]])"
      ]
     },
     "execution_count": 6,
     "metadata": {},
     "output_type": "execute_result"
    }
   ],
   "source": [
    "arr1"
   ]
  },
  {
   "cell_type": "markdown",
   "metadata": {},
   "source": [
    "2.Create a 5x5 matrix with values 1,2,3,4 just below the diagonal"
   ]
  },
  {
   "cell_type": "code",
   "execution_count": 13,
   "metadata": {},
   "outputs": [],
   "source": [
    "arr2 = np.zeros((5,5))\n",
    "arr2[[1,2,3,4],[0,1,2,3]] = [1,2,3,4]"
   ]
  },
  {
   "cell_type": "code",
   "execution_count": 14,
   "metadata": {},
   "outputs": [
    {
     "data": {
      "text/plain": [
       "array([[0., 0., 0., 0., 0.],\n",
       "       [1., 0., 0., 0., 0.],\n",
       "       [0., 2., 0., 0., 0.],\n",
       "       [0., 0., 3., 0., 0.],\n",
       "       [0., 0., 0., 4., 0.]])"
      ]
     },
     "execution_count": 14,
     "metadata": {},
     "output_type": "execute_result"
    }
   ],
   "source": [
    "arr2"
   ]
  },
  {
   "cell_type": "markdown",
   "metadata": {},
   "source": [
    "3.Create a 8x8 matrix and fill it with a checkerboard pattern"
   ]
  },
  {
   "cell_type": "code",
   "execution_count": 22,
   "metadata": {},
   "outputs": [],
   "source": [
    "arr3 = np.zeros((8,8))\n",
    "arr3[:,::2] = 1"
   ]
  },
  {
   "cell_type": "code",
   "execution_count": 23,
   "metadata": {},
   "outputs": [
    {
     "data": {
      "text/plain": [
       "array([[1., 0., 1., 0., 1., 0., 1., 0.],\n",
       "       [1., 0., 1., 0., 1., 0., 1., 0.],\n",
       "       [1., 0., 1., 0., 1., 0., 1., 0.],\n",
       "       [1., 0., 1., 0., 1., 0., 1., 0.],\n",
       "       [1., 0., 1., 0., 1., 0., 1., 0.],\n",
       "       [1., 0., 1., 0., 1., 0., 1., 0.],\n",
       "       [1., 0., 1., 0., 1., 0., 1., 0.],\n",
       "       [1., 0., 1., 0., 1., 0., 1., 0.]])"
      ]
     },
     "execution_count": 23,
     "metadata": {},
     "output_type": "execute_result"
    }
   ],
   "source": [
    "arr3"
   ]
  },
  {
   "cell_type": "code",
   "execution_count": 44,
   "metadata": {},
   "outputs": [
    {
     "data": {
      "text/plain": [
       "array([[ 0.53346519,  1.0027221 , -0.33379977, -0.05446731, -0.29034094],\n",
       "       [ 1.38088667,  1.23403541, -0.3323761 , -0.04174472, -0.72981021],\n",
       "       [ 0.01574422,  0.51898375, -1.86156942, -1.13970742,  0.71701922],\n",
       "       [ 0.23328172, -0.1348596 ,  0.93484179,  0.82129385,  1.75695346],\n",
       "       [-0.16266935, -1.23463888,  0.82873596,  0.59245619, -1.46458484]])"
      ]
     },
     "execution_count": 44,
     "metadata": {},
     "output_type": "execute_result"
    }
   ],
   "source": [
    "arr3 = np.random.randn(5,5)\n",
    "arr3\n"
   ]
  },
  {
   "cell_type": "code",
   "execution_count": 45,
   "metadata": {},
   "outputs": [],
   "source": [
    "import matplotlib.pyplot as plt"
   ]
  },
  {
   "cell_type": "code",
   "execution_count": 46,
   "metadata": {},
   "outputs": [],
   "source": [
    "from numpy import hstack,vstack"
   ]
  },
  {
   "cell_type": "code",
   "execution_count": 47,
   "metadata": {},
   "outputs": [],
   "source": [
    "arr3 = hstack(arr3)"
   ]
  },
  {
   "cell_type": "code",
   "execution_count": 50,
   "metadata": {},
   "outputs": [
    {
     "name": "stdout",
     "output_type": "stream",
     "text": [
      "[ 0.88394325 -0.64060418 -0.53256118 -0.61062929  0.31743202]\n"
     ]
    }
   ],
   "source": [
    "from scipy.stats import skew\n",
    "print(skew(arr3))"
   ]
  },
  {
   "cell_type": "code",
   "execution_count": 51,
   "metadata": {},
   "outputs": [],
   "source": [
    "import seaborn as sns"
   ]
  },
  {
   "cell_type": "code",
   "execution_count": 52,
   "metadata": {},
   "outputs": [
    {
     "data": {
      "text/plain": [
       "<AxesSubplot:ylabel='Count'>"
      ]
     },
     "execution_count": 52,
     "metadata": {},
     "output_type": "execute_result"
    },
    {
     "data": {
      "image/png": "[encoded data removed]",
      "text/plain": [
       "<Figure size 432x288 with 1 Axes>"
      ]
     },
     "metadata": {
      "needs_background": "light"
     },
     "output_type": "display_data"
    }
   ],
   "source": [
    "sns.histplot(arr4 , kde=True)"
   ]
  },
  {
   "cell_type": "markdown",
   "metadata": {},
   "source": [
    "5 .How to find common values between two arrays?"
   ]
  },
  {
   "cell_type": "code",
   "execution_count": 71,
   "metadata": {},
   "outputs": [],
   "source": [
    "arr5 = np.arange(10,50)\n",
    "arr6 = np.arange(40,80)"
   ]
  },
  {
   "cell_type": "code",
   "execution_count": 80,
   "metadata": {},
   "outputs": [
    {
     "data": {
      "text/plain": [
       "array([40, 41, 42, 43, 44, 45, 46, 47, 48, 49])"
      ]
     },
     "execution_count": 80,
     "metadata": {},
     "output_type": "execute_result"
    }
   ],
   "source": [
    "np.intersect1d(arr5,arr6)"
   ]
  },
  {
   "cell_type": "markdown",
   "metadata": {},
   "source": [
    "6.How to get the dates of yesterday, today and tomorrow?"
   ]
  },
  {
   "cell_type": "code",
   "execution_count": 91,
   "metadata": {},
   "outputs": [],
   "source": [
    "Yesterday = np.datetime64(\"today\",\"D\") - np.timedelta64(1,\"D\")\n",
    "Today = np.datetime64(\"today\",\"D\")\n",
    "Tomorrow = np.datetime64(\"today\",\"D\") + np.timedelta64(1,\"D\")\n"
   ]
  },
  {
   "cell_type": "code",
   "execution_count": 92,
   "metadata": {},
   "outputs": [
    {
     "name": "stdout",
     "output_type": "stream",
     "text": [
      "2021-06-05\n",
      "2021-06-06\n",
      "2021-06-07\n"
     ]
    }
   ],
   "source": [
    "print(Yesterday)\n",
    "print(Today)\n",
    "print(Tomorrow)"
   ]
  },
  {
   "cell_type": "markdown",
   "metadata": {},
   "source": [
    "7 .Consider two random array A and B, check if they are equal"
   ]
  },
  {
   "cell_type": "code",
   "execution_count": 111,
   "metadata": {},
   "outputs": [
    {
     "name": "stdout",
     "output_type": "stream",
     "text": [
      "Both random array are equal\n"
     ]
    }
   ],
   "source": [
    "arr7 = np.arange(50,100)\n",
    "arr8= np.arange(50,100)\n",
    "\n",
    "if len(np.intersect1d(arr7,arr8)) == len(arr7):\n",
    "    print(\"Both random array are equal\")\n",
    "else:\n",
    "    print(\"Both random array are not equal\")"
   ]
  },
  {
   "cell_type": "markdown",
   "metadata": {},
   "source": [
    "8 . Create random vector of size 10 and replace the maximum value by 0"
   ]
  },
  {
   "cell_type": "code",
   "execution_count": 136,
   "metadata": {},
   "outputs": [
    {
     "data": {
      "text/plain": [
       "array([[ 8,  3, 39,  7, 15, 21, 27, 23, 38, 45],\n",
       "       [13, 48, 28, 22, 12, 34, 13, 31, 36, 16],\n",
       "       [11, 21,  9, 31,  9, 13,  3, 30,  6, 44],\n",
       "       [39,  7, 15, 15, 14, 17, 45, 19, 15, 30],\n",
       "       [19, 43,  3, 48, 39, 28, 46,  6, 26, 15],\n",
       "       [ 1,  5, 23, 13,  8,  9, 23,  1, 37,  7],\n",
       "       [33, 14, 11, 18, 14, 20, 42, 37,  3, 29],\n",
       "       [ 4, 29, 27,  8,  4, 43,  5, 37, 14, 25],\n",
       "       [21, 42, 43, 24, 39, 20, 14, 46, 26,  2],\n",
       "       [19, 32,  9,  3, 30,  0,  1, 11, 22, 35]])"
      ]
     },
     "execution_count": 136,
     "metadata": {},
     "output_type": "execute_result"
    }
   ],
   "source": [
    "arr8 = np.random.randint(50,size = (10,10))\n",
    "arr8"
   ]
  },
  {
   "cell_type": "code",
   "execution_count": 137,
   "metadata": {},
   "outputs": [],
   "source": [
    "result = arr8.max()\n",
    "arr8[arr8 == result] =0"
   ]
  },
  {
   "cell_type": "code",
   "execution_count": 138,
   "metadata": {},
   "outputs": [
    {
     "data": {
      "text/plain": [
       "array([[ 8,  3, 39,  7, 15, 21, 27, 23, 38, 45],\n",
       "       [13,  0, 28, 22, 12, 34, 13, 31, 36, 16],\n",
       "       [11, 21,  9, 31,  9, 13,  3, 30,  6, 44],\n",
       "       [39,  7, 15, 15, 14, 17, 45, 19, 15, 30],\n",
       "       [19, 43,  3,  0, 39, 28, 46,  6, 26, 15],\n",
       "       [ 1,  5, 23, 13,  8,  9, 23,  1, 37,  7],\n",
       "       [33, 14, 11, 18, 14, 20, 42, 37,  3, 29],\n",
       "       [ 4, 29, 27,  8,  4, 43,  5, 37, 14, 25],\n",
       "       [21, 42, 43, 24, 39, 20, 14, 46, 26,  2],\n",
       "       [19, 32,  9,  3, 30,  0,  1, 11, 22, 35]])"
      ]
     },
     "execution_count": 138,
     "metadata": {},
     "output_type": "execute_result"
    }
   ],
   "source": [
    "arr8"
   ]
  },
  {
   "cell_type": "markdown",
   "metadata": {},
   "source": [
    "9. How to print all the values of an array?"
   ]
  },
  {
   "cell_type": "code",
   "execution_count": 139,
   "metadata": {},
   "outputs": [
    {
     "name": "stdout",
     "output_type": "stream",
     "text": [
      "[[ 8  3 39  7 15 21 27 23 38 45]\n",
      " [13  0 28 22 12 34 13 31 36 16]\n",
      " [11 21  9 31  9 13  3 30  6 44]\n",
      " [39  7 15 15 14 17 45 19 15 30]\n",
      " [19 43  3  0 39 28 46  6 26 15]\n",
      " [ 1  5 23 13  8  9 23  1 37  7]\n",
      " [33 14 11 18 14 20 42 37  3 29]\n",
      " [ 4 29 27  8  4 43  5 37 14 25]\n",
      " [21 42 43 24 39 20 14 46 26  2]\n",
      " [19 32  9  3 30  0  1 11 22 35]]\n"
     ]
    }
   ],
   "source": [
    "print(arr8)"
   ]
  },
  {
   "cell_type": "markdown",
   "metadata": {},
   "source": [
    "10.Consider a given vector, how to add 1 to each element indexed by a second vector (be careful with repeated indices) ?"
   ]
  },
  {
   "cell_type": "code",
   "execution_count": 140,
   "metadata": {},
   "outputs": [
    {
     "name": "stdout",
     "output_type": "stream",
     "text": [
      "[2. 1. 1. 4. 5. 4. 5. 2. 4. 2.]\n"
     ]
    }
   ],
   "source": [
    "Z = np.ones(10)\n",
    "I = np.random.randint(0,len(Z),20)\n",
    "Z += np.bincount(I, minlength=len(Z))\n",
    "print(Z)"
   ]
  },
  {
   "cell_type": "markdown",
   "metadata": {},
   "source": [
    "13.How to find the most frequent value in an array?"
   ]
  },
  {
   "cell_type": "code",
   "execution_count": 142,
   "metadata": {},
   "outputs": [],
   "source": [
    "from scipy.stats import mode"
   ]
  },
  {
   "cell_type": "code",
   "execution_count": 143,
   "metadata": {},
   "outputs": [
    {
     "data": {
      "text/plain": [
       "ModeResult(mode=array([[19,  0,  9,  0, 14, 20,  1, 37, 26,  2]]), count=array([[2, 1, 2, 1, 2, 2, 1, 2, 2, 1]]))"
      ]
     },
     "execution_count": 143,
     "metadata": {},
     "output_type": "execute_result"
    }
   ],
   "source": [
    "mode(arr8)"
   ]
  },
  {
   "cell_type": "markdown",
   "metadata": {},
   "source": [
    "15.How to create a record array from a regular array"
   ]
  },
  {
   "cell_type": "code",
   "execution_count": 146,
   "metadata": {},
   "outputs": [],
   "source": [
    "arr9 = arr8.copy() # if changes made in array 8 wont be reflected in arr9"
   ]
  },
  {
   "cell_type": "code",
   "execution_count": 145,
   "metadata": {},
   "outputs": [
    {
     "data": {
      "text/plain": [
       "array([[ 8,  3, 39,  7, 15, 21, 27, 23, 38, 45],\n",
       "       [13,  0, 28, 22, 12, 34, 13, 31, 36, 16],\n",
       "       [11, 21,  9, 31,  9, 13,  3, 30,  6, 44],\n",
       "       [39,  7, 15, 15, 14, 17, 45, 19, 15, 30],\n",
       "       [19, 43,  3,  0, 39, 28, 46,  6, 26, 15],\n",
       "       [ 1,  5, 23, 13,  8,  9, 23,  1, 37,  7],\n",
       "       [33, 14, 11, 18, 14, 20, 42, 37,  3, 29],\n",
       "       [ 4, 29, 27,  8,  4, 43,  5, 37, 14, 25],\n",
       "       [21, 42, 43, 24, 39, 20, 14, 46, 26,  2],\n",
       "       [19, 32,  9,  3, 30,  0,  1, 11, 22, 35]])"
      ]
     },
     "execution_count": 145,
     "metadata": {},
     "output_type": "execute_result"
    }
   ],
   "source": [
    "arr9"
   ]
  },
  {
   "cell_type": "code",
   "execution_count": null,
   "metadata": {},
   "outputs": [],
   "source": []
  }
 ],
 "metadata": {
  "kernelspec": {
   "display_name": "Python 3",
   "language": "python",
   "name": "python3"
  },
  "language_info": {
   "codemirror_mode": {
    "name": "ipython",
    "version": 3
   },
   "file_extension": ".py",
   "mimetype": "text/x-python",
   "name": "python",
   "nbconvert_exporter": "python",
   "pygments_lexer": "ipython3",
   "version": "3.8.5"
  }
 },
 "nbformat": 4,
 "nbformat_minor": 4
}
