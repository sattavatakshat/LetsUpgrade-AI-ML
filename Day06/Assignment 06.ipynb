{
 "cells": [
  {
   "cell_type": "markdown",
   "metadata": {},
   "source": [
    "# Q.1"
   ]
  },
  {
   "cell_type": "code",
   "execution_count": 26,
   "metadata": {},
   "outputs": [
    {
     "name": "stdout",
     "output_type": "stream",
     "text": [
      "Enter the string sattavat.akshat@gmail.com\n",
      "gmail\n"
     ]
    }
   ],
   "source": [
    "user = input(\"Enter the string \")\n",
    "\n",
    "new = \"\"\n",
    "\n",
    "count_1 = 0\n",
    "\n",
    "for i in user:\n",
    "    count_1 +=1\n",
    "    if i == \"@\":\n",
    "        start = count_1\n",
    "    elif i == \".\":\n",
    "        end = count_1\n",
    "        \n",
    "for i in range(start,end-1):\n",
    "    new += user[i]\n",
    "\n",
    "\n",
    "print(new)\n",
    "    \n",
    "        \n"
   ]
  },
  {
   "cell_type": "markdown",
   "metadata": {},
   "source": [
    "# Q.2"
   ]
  },
  {
   "cell_type": "code",
   "execution_count": 36,
   "metadata": {},
   "outputs": [
    {
     "name": "stdout",
     "output_type": "stream",
     "text": [
      "Enter the comma seperated value without,hello,bag,world\n",
      "bag,hello,without,world\n"
     ]
    }
   ],
   "source": [
    "user = input(\"Enter the comma seperated value \").split(\",\")\n",
    "\n",
    "print(\",\".join(sorted(user)))"
   ]
  },
  {
   "cell_type": "markdown",
   "metadata": {},
   "source": [
    "# Q.3"
   ]
  },
  {
   "cell_type": "code",
   "execution_count": 57,
   "metadata": {},
   "outputs": [
    {
     "name": "stdout",
     "output_type": "stream",
     "text": [
      "Enter the space seperated value1 3 5 7 8 9\n",
      "This number is not in the list 2\n",
      "This number is not in the list 4\n",
      "This number is not in the list 6\n"
     ]
    }
   ],
   "source": [
    "user = input(\"Enter the space seperated value\").split(\" \")\n",
    "user = sorted(user)\n",
    "user = list(map(lambda x :int(x) ,user))\n",
    "\n",
    "for i in range(min(user),max(user)):\n",
    "    if i in user:\n",
    "        pass\n",
    "    else:\n",
    "        print(\"This number is not in the list\",i)\n",
    "    \n",
    "        \n"
   ]
  },
  {
   "cell_type": "markdown",
   "metadata": {},
   "source": [
    "# Q.4"
   ]
  },
  {
   "cell_type": "code",
   "execution_count": 59,
   "metadata": {},
   "outputs": [
    {
     "name": "stdout",
     "output_type": "stream",
     "text": [
      "[1, 2, 3, 4, 5, 6, 7, 8, 9, 99, 0]\n"
     ]
    }
   ],
   "source": [
    "user = [ 1,2,3,3,3,4,5,6,6,7,8,9,99,0,99]\n",
    "new = []\n",
    "for i in user:\n",
    "    if i in new:\n",
    "        pass\n",
    "    else:\n",
    "        new.append(i)\n",
    "print(new)"
   ]
  },
  {
   "cell_type": "code",
   "execution_count": null,
   "metadata": {},
   "outputs": [],
   "source": []
  }
 ],
 "metadata": {
  "kernelspec": {
   "display_name": "Python 3",
   "language": "python",
   "name": "python3"
  },
  "language_info": {
   "codemirror_mode": {
    "name": "ipython",
    "version": 3
   },
   "file_extension": ".py",
   "mimetype": "text/x-python",
   "name": "python",
   "nbconvert_exporter": "python",
   "pygments_lexer": "ipython3",
   "version": "3.8.5"
  }
 },
 "nbformat": 4,
 "nbformat_minor": 4
}
